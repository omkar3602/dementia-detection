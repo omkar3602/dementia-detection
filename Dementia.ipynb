{
  "cells": [
    {
      "cell_type": "code",
      "execution_count": 1,
      "metadata": {
        "id": "00Nfm2cjDAw7"
      },
      "outputs": [],
      "source": [
        "import pandas as pd\n",
        "import matplotlib.pyplot as plt\n",
        "from numpy import array\n",
        "import numpy as np\n",
        "import seaborn as sns\n",
        "import sklearn"
      ]
    },
    {
      "cell_type": "markdown",
      "metadata": {
        "id": "qrkh-dpSDAw-"
      },
      "source": [
        "# Loading the Dataset"
      ]
    },
    {
      "cell_type": "code",
      "execution_count": 2,
      "metadata": {
        "colab": {
          "base_uri": "https://localhost:8080/"
        },
        "id": "W2JwOgKTGL-_",
        "outputId": "e50a4779-904b-4b22-ca28-fa10fbc1c919"
      },
      "outputs": [],
      "source": [
        "# !wget https://github.com/omkar3602/dementia-detection-dataset/raw/master/data.zip"
      ]
    },
    {
      "cell_type": "code",
      "execution_count": 3,
      "metadata": {
        "colab": {
          "base_uri": "https://localhost:8080/"
        },
        "id": "UdHbZJQyGa8v",
        "outputId": "f0041c57-583a-4904-bc79-b4fe6158dd26"
      },
      "outputs": [],
      "source": [
        "# !unzip data.zip"
      ]
    },
    {
      "cell_type": "code",
      "execution_count": 4,
      "metadata": {
        "colab": {
          "base_uri": "https://localhost:8080/",
          "height": 287
        },
        "id": "VG5z80AnG0pL",
        "outputId": "038804e5-bdcf-4242-ba1d-3bb599569c2b"
      },
      "outputs": [
        {
          "data": {
            "text/html": [
              "<div>\n",
              "<style scoped>\n",
              "    .dataframe tbody tr th:only-of-type {\n",
              "        vertical-align: middle;\n",
              "    }\n",
              "\n",
              "    .dataframe tbody tr th {\n",
              "        vertical-align: top;\n",
              "    }\n",
              "\n",
              "    .dataframe thead th {\n",
              "        text-align: right;\n",
              "    }\n",
              "</style>\n",
              "<table border=\"1\" class=\"dataframe\">\n",
              "  <thead>\n",
              "    <tr style=\"text-align: right;\">\n",
              "      <th></th>\n",
              "      <th>Subject ID</th>\n",
              "      <th>MRI ID</th>\n",
              "      <th>Group</th>\n",
              "      <th>Visit</th>\n",
              "      <th>MR Delay</th>\n",
              "      <th>M/F</th>\n",
              "      <th>Hand</th>\n",
              "      <th>Age</th>\n",
              "      <th>EDUC</th>\n",
              "      <th>SES</th>\n",
              "      <th>MMSE</th>\n",
              "      <th>CDR</th>\n",
              "      <th>eTIV</th>\n",
              "      <th>nWBV</th>\n",
              "      <th>ASF</th>\n",
              "    </tr>\n",
              "  </thead>\n",
              "  <tbody>\n",
              "    <tr>\n",
              "      <th>0</th>\n",
              "      <td>OAS2_0001</td>\n",
              "      <td>OAS2_0001_MR1</td>\n",
              "      <td>Nondemented</td>\n",
              "      <td>1</td>\n",
              "      <td>0</td>\n",
              "      <td>M</td>\n",
              "      <td>R</td>\n",
              "      <td>87</td>\n",
              "      <td>14</td>\n",
              "      <td>2.0</td>\n",
              "      <td>27.0</td>\n",
              "      <td>0.0</td>\n",
              "      <td>1987</td>\n",
              "      <td>0.696</td>\n",
              "      <td>0.883</td>\n",
              "    </tr>\n",
              "    <tr>\n",
              "      <th>1</th>\n",
              "      <td>OAS2_0001</td>\n",
              "      <td>OAS2_0001_MR2</td>\n",
              "      <td>Nondemented</td>\n",
              "      <td>2</td>\n",
              "      <td>457</td>\n",
              "      <td>M</td>\n",
              "      <td>R</td>\n",
              "      <td>88</td>\n",
              "      <td>14</td>\n",
              "      <td>2.0</td>\n",
              "      <td>30.0</td>\n",
              "      <td>0.0</td>\n",
              "      <td>2004</td>\n",
              "      <td>0.681</td>\n",
              "      <td>0.876</td>\n",
              "    </tr>\n",
              "    <tr>\n",
              "      <th>2</th>\n",
              "      <td>OAS2_0002</td>\n",
              "      <td>OAS2_0002_MR1</td>\n",
              "      <td>Demented</td>\n",
              "      <td>1</td>\n",
              "      <td>0</td>\n",
              "      <td>M</td>\n",
              "      <td>R</td>\n",
              "      <td>75</td>\n",
              "      <td>12</td>\n",
              "      <td>NaN</td>\n",
              "      <td>23.0</td>\n",
              "      <td>0.5</td>\n",
              "      <td>1678</td>\n",
              "      <td>0.736</td>\n",
              "      <td>1.046</td>\n",
              "    </tr>\n",
              "    <tr>\n",
              "      <th>3</th>\n",
              "      <td>OAS2_0002</td>\n",
              "      <td>OAS2_0002_MR2</td>\n",
              "      <td>Demented</td>\n",
              "      <td>2</td>\n",
              "      <td>560</td>\n",
              "      <td>M</td>\n",
              "      <td>R</td>\n",
              "      <td>76</td>\n",
              "      <td>12</td>\n",
              "      <td>NaN</td>\n",
              "      <td>28.0</td>\n",
              "      <td>0.5</td>\n",
              "      <td>1738</td>\n",
              "      <td>0.713</td>\n",
              "      <td>1.010</td>\n",
              "    </tr>\n",
              "    <tr>\n",
              "      <th>4</th>\n",
              "      <td>OAS2_0002</td>\n",
              "      <td>OAS2_0002_MR3</td>\n",
              "      <td>Demented</td>\n",
              "      <td>3</td>\n",
              "      <td>1895</td>\n",
              "      <td>M</td>\n",
              "      <td>R</td>\n",
              "      <td>80</td>\n",
              "      <td>12</td>\n",
              "      <td>NaN</td>\n",
              "      <td>22.0</td>\n",
              "      <td>0.5</td>\n",
              "      <td>1698</td>\n",
              "      <td>0.701</td>\n",
              "      <td>1.034</td>\n",
              "    </tr>\n",
              "  </tbody>\n",
              "</table>\n",
              "</div>"
            ],
            "text/plain": [
              "  Subject ID         MRI ID        Group  Visit  MR Delay M/F Hand  Age  EDUC  \\\n",
              "0  OAS2_0001  OAS2_0001_MR1  Nondemented      1         0   M    R   87    14   \n",
              "1  OAS2_0001  OAS2_0001_MR2  Nondemented      2       457   M    R   88    14   \n",
              "2  OAS2_0002  OAS2_0002_MR1     Demented      1         0   M    R   75    12   \n",
              "3  OAS2_0002  OAS2_0002_MR2     Demented      2       560   M    R   76    12   \n",
              "4  OAS2_0002  OAS2_0002_MR3     Demented      3      1895   M    R   80    12   \n",
              "\n",
              "   SES  MMSE  CDR  eTIV   nWBV    ASF  \n",
              "0  2.0  27.0  0.0  1987  0.696  0.883  \n",
              "1  2.0  30.0  0.0  2004  0.681  0.876  \n",
              "2  NaN  23.0  0.5  1678  0.736  1.046  \n",
              "3  NaN  28.0  0.5  1738  0.713  1.010  \n",
              "4  NaN  22.0  0.5  1698  0.701  1.034  "
            ]
          },
          "execution_count": 4,
          "metadata": {},
          "output_type": "execute_result"
        }
      ],
      "source": [
        "df = pd.read_csv('dementia_dataset.csv')\n",
        "df.head()"
      ]
    },
    {
      "cell_type": "code",
      "execution_count": 5,
      "metadata": {
        "colab": {
          "base_uri": "https://localhost:8080/"
        },
        "id": "HViDdf89DAxB",
        "outputId": "22ed5977-bedc-4a88-9927-55e962aabb96"
      },
      "outputs": [
        {
          "name": "stdout",
          "output_type": "stream",
          "text": [
            "\n",
            "1) Subject ID - ID of the individual subject\n",
            "2) MRI ID - ID of the MRI scan\n",
            "3) Group - Demented / Non Demented i.e. variable to be predicted\n",
            "4) Visit - Count of visit of the subject\n",
            "5) MR Delay - Instrument error\n",
            "6) M/F - Gender\n",
            "7) Hand - Dominant Hand\n",
            "8) Age - Age of Subject\n",
            "9) EDUC - Educational level of subject [years of education]\n",
            "10) SES - Socio Economic Status\n",
            "11) MMSE - Mini Mental State Exam - An all round test of the brain which can yield a max score of 30 being the healthiest \n",
            "12) CDR - Clinical Dementia Rating\n",
            "13) eTIV - Estimated Total IntraCranial Volume\n",
            "14) nWBV - Normalized Whole Brain Volume\n",
            "15) ASF - Atlas Scaling Factor\n",
            "\n"
          ]
        }
      ],
      "source": [
        "# metadata \n",
        "print('''\n",
        "1) Subject ID - ID of the individual subject\n",
        "2) MRI ID - ID of the MRI scan\n",
        "3) Group - Demented / Non Demented i.e. variable to be predicted\n",
        "4) Visit - Count of visit of the subject\n",
        "5) MR Delay - Instrument error\n",
        "6) M/F - Gender\n",
        "7) Hand - Dominant Hand\n",
        "8) Age - Age of Subject\n",
        "9) EDUC - Educational level of subject [years of education]\n",
        "10) SES - Socio Economic Status\n",
        "11) MMSE - Mini Mental State Exam - An all round test of the brain which can yield a max score of 30 being the healthiest \n",
        "12) CDR - Clinical Dementia Rating\n",
        "13) eTIV - Estimated Total IntraCranial Volume\n",
        "14) nWBV - Normalized Whole Brain Volume\n",
        "15) ASF - Atlas Scaling Factor\n",
        "''')"
      ]
    },
    {
      "cell_type": "markdown",
      "metadata": {
        "id": "mD8IqpxuDAxB"
      },
      "source": [
        "# Data Cleaning"
      ]
    },
    {
      "cell_type": "code",
      "execution_count": 6,
      "metadata": {
        "colab": {
          "base_uri": "https://localhost:8080/"
        },
        "id": "QbRhIwOKDAxC",
        "outputId": "8f34705a-22fb-49b8-9060-b2589c13b8fb"
      },
      "outputs": [
        {
          "name": "stdout",
          "output_type": "stream",
          "text": [
            "\n",
            " Data Types of Columns\n"
          ]
        },
        {
          "data": {
            "text/plain": [
              "Subject ID     object\n",
              "MRI ID         object\n",
              "Group          object\n",
              "Visit           int64\n",
              "MR Delay        int64\n",
              "M/F            object\n",
              "Hand           object\n",
              "Age             int64\n",
              "EDUC            int64\n",
              "SES           float64\n",
              "MMSE          float64\n",
              "CDR           float64\n",
              "eTIV            int64\n",
              "nWBV          float64\n",
              "ASF           float64\n",
              "dtype: object"
            ]
          },
          "execution_count": 6,
          "metadata": {},
          "output_type": "execute_result"
        }
      ],
      "source": [
        "print(\"\\n Data Types of Columns\")\n",
        "df.dtypes"
      ]
    },
    {
      "cell_type": "code",
      "execution_count": 7,
      "metadata": {
        "colab": {
          "base_uri": "https://localhost:8080/"
        },
        "id": "pdblrPxqDAxC",
        "outputId": "a0190a9e-0dc6-4e02-f92a-95081b04bb9f"
      },
      "outputs": [
        {
          "name": "stdout",
          "output_type": "stream",
          "text": [
            "Shape of Data\n"
          ]
        },
        {
          "data": {
            "text/plain": [
              "(373, 15)"
            ]
          },
          "execution_count": 7,
          "metadata": {},
          "output_type": "execute_result"
        }
      ],
      "source": [
        "print(\"Shape of Data\")\n",
        "df.shape"
      ]
    },
    {
      "cell_type": "code",
      "execution_count": 8,
      "metadata": {
        "colab": {
          "base_uri": "https://localhost:8080/"
        },
        "id": "d4j07OtHDAxD",
        "outputId": "30fc9599-8e26-4f67-b6a8-e9b008e31a2b"
      },
      "outputs": [
        {
          "name": "stdout",
          "output_type": "stream",
          "text": [
            "\n",
            "Null Values in Each column\n",
            "\n",
            "Subject ID  =  0\n",
            "MRI ID  =  0\n",
            "Group  =  0\n",
            "Visit  =  0\n",
            "MR Delay  =  0\n",
            "M/F  =  0\n",
            "Hand  =  0\n",
            "Age  =  0\n",
            "EDUC  =  0\n",
            "SES  =  19\n",
            "MMSE  =  2\n",
            "CDR  =  0\n",
            "eTIV  =  0\n",
            "nWBV  =  0\n",
            "ASF  =  0\n"
          ]
        }
      ],
      "source": [
        "col = df.columns\n",
        "\n",
        "print(\"\\nNull Values in Each column\\n\")\n",
        "\n",
        "for i in col:\n",
        "    print(i , \" = \", df[i].isnull().sum())"
      ]
    },
    {
      "cell_type": "code",
      "execution_count": 9,
      "metadata": {
        "colab": {
          "base_uri": "https://localhost:8080/"
        },
        "id": "d9cg9l4NDAxE",
        "outputId": "a5c213d5-854e-475f-897b-fcbc410baaee"
      },
      "outputs": [
        {
          "data": {
            "text/plain": [
              "2.0"
            ]
          },
          "execution_count": 9,
          "metadata": {},
          "output_type": "execute_result"
        }
      ],
      "source": [
        "# fill null values with median as it is more robust\n",
        "med_SES = df['SES'].median(skipna = True)\n",
        "med_SES \n"
      ]
    },
    {
      "cell_type": "code",
      "execution_count": 10,
      "metadata": {
        "id": "oQ8Wb_wYDAxF"
      },
      "outputs": [],
      "source": [
        "df['SES'].fillna(med_SES , inplace = True)"
      ]
    },
    {
      "cell_type": "code",
      "execution_count": 11,
      "metadata": {
        "colab": {
          "base_uri": "https://localhost:8080/"
        },
        "id": "jMfoBAZRDAxF",
        "outputId": "aec40ca2-050f-49e8-c9ea-8b3d87534f6a"
      },
      "outputs": [
        {
          "data": {
            "text/plain": [
              "0"
            ]
          },
          "execution_count": 11,
          "metadata": {},
          "output_type": "execute_result"
        }
      ],
      "source": [
        "# no more null values in SES remain\n",
        "df['SES'].isnull().sum()"
      ]
    },
    {
      "cell_type": "code",
      "execution_count": 12,
      "metadata": {
        "id": "TMBQW8LKDAxF"
      },
      "outputs": [],
      "source": [
        "# Similarly we clean the MMSE column too\n",
        "med_MMSE = df['MMSE'].median(skipna=True)\n",
        "df['MMSE'].fillna(med_MMSE , inplace=True)"
      ]
    },
    {
      "cell_type": "code",
      "execution_count": 13,
      "metadata": {
        "colab": {
          "base_uri": "https://localhost:8080/"
        },
        "id": "oV6iZpesDAxG",
        "outputId": "e449e647-8278-4ab8-ed74-93cd6c311d09"
      },
      "outputs": [
        {
          "data": {
            "text/plain": [
              "0"
            ]
          },
          "execution_count": 13,
          "metadata": {},
          "output_type": "execute_result"
        }
      ],
      "source": [
        "# no more null values in MMSE remain\n",
        "df['MMSE'].isnull().sum()"
      ]
    },
    {
      "cell_type": "code",
      "execution_count": 14,
      "metadata": {
        "id": "4I_moUczDAxG"
      },
      "outputs": [],
      "source": [
        "df.rename(columns = {\"M/F\" : \"Gender\"} , inplace = True)"
      ]
    },
    {
      "cell_type": "code",
      "execution_count": 15,
      "metadata": {
        "id": "TNu514kHDAxG"
      },
      "outputs": [],
      "source": [
        "# Our data is now ready for visualization and analysis "
      ]
    },
    {
      "cell_type": "markdown",
      "metadata": {
        "id": "wtReBLVADAxG"
      },
      "source": [
        "# Data Visualization"
      ]
    },
    {
      "cell_type": "code",
      "execution_count": 16,
      "metadata": {
        "colab": {
          "base_uri": "https://localhost:8080/",
          "height": 287
        },
        "id": "IVNxJWKeDAxH",
        "outputId": "78291e9a-d24f-41ba-8c9c-402cfd3159dd"
      },
      "outputs": [
        {
          "data": {
            "text/html": [
              "<div>\n",
              "<style scoped>\n",
              "    .dataframe tbody tr th:only-of-type {\n",
              "        vertical-align: middle;\n",
              "    }\n",
              "\n",
              "    .dataframe tbody tr th {\n",
              "        vertical-align: top;\n",
              "    }\n",
              "\n",
              "    .dataframe thead th {\n",
              "        text-align: right;\n",
              "    }\n",
              "</style>\n",
              "<table border=\"1\" class=\"dataframe\">\n",
              "  <thead>\n",
              "    <tr style=\"text-align: right;\">\n",
              "      <th></th>\n",
              "      <th>Subject ID</th>\n",
              "      <th>MRI ID</th>\n",
              "      <th>Group</th>\n",
              "      <th>Visit</th>\n",
              "      <th>MR Delay</th>\n",
              "      <th>Gender</th>\n",
              "      <th>Hand</th>\n",
              "      <th>Age</th>\n",
              "      <th>EDUC</th>\n",
              "      <th>SES</th>\n",
              "      <th>MMSE</th>\n",
              "      <th>CDR</th>\n",
              "      <th>eTIV</th>\n",
              "      <th>nWBV</th>\n",
              "      <th>ASF</th>\n",
              "    </tr>\n",
              "  </thead>\n",
              "  <tbody>\n",
              "    <tr>\n",
              "      <th>0</th>\n",
              "      <td>OAS2_0001</td>\n",
              "      <td>OAS2_0001_MR1</td>\n",
              "      <td>Nondemented</td>\n",
              "      <td>1</td>\n",
              "      <td>0</td>\n",
              "      <td>M</td>\n",
              "      <td>R</td>\n",
              "      <td>87</td>\n",
              "      <td>14</td>\n",
              "      <td>2.0</td>\n",
              "      <td>27.0</td>\n",
              "      <td>0.0</td>\n",
              "      <td>1987</td>\n",
              "      <td>0.696</td>\n",
              "      <td>0.883</td>\n",
              "    </tr>\n",
              "    <tr>\n",
              "      <th>1</th>\n",
              "      <td>OAS2_0001</td>\n",
              "      <td>OAS2_0001_MR2</td>\n",
              "      <td>Nondemented</td>\n",
              "      <td>2</td>\n",
              "      <td>457</td>\n",
              "      <td>M</td>\n",
              "      <td>R</td>\n",
              "      <td>88</td>\n",
              "      <td>14</td>\n",
              "      <td>2.0</td>\n",
              "      <td>30.0</td>\n",
              "      <td>0.0</td>\n",
              "      <td>2004</td>\n",
              "      <td>0.681</td>\n",
              "      <td>0.876</td>\n",
              "    </tr>\n",
              "    <tr>\n",
              "      <th>2</th>\n",
              "      <td>OAS2_0002</td>\n",
              "      <td>OAS2_0002_MR1</td>\n",
              "      <td>Demented</td>\n",
              "      <td>1</td>\n",
              "      <td>0</td>\n",
              "      <td>M</td>\n",
              "      <td>R</td>\n",
              "      <td>75</td>\n",
              "      <td>12</td>\n",
              "      <td>2.0</td>\n",
              "      <td>23.0</td>\n",
              "      <td>0.5</td>\n",
              "      <td>1678</td>\n",
              "      <td>0.736</td>\n",
              "      <td>1.046</td>\n",
              "    </tr>\n",
              "    <tr>\n",
              "      <th>3</th>\n",
              "      <td>OAS2_0002</td>\n",
              "      <td>OAS2_0002_MR2</td>\n",
              "      <td>Demented</td>\n",
              "      <td>2</td>\n",
              "      <td>560</td>\n",
              "      <td>M</td>\n",
              "      <td>R</td>\n",
              "      <td>76</td>\n",
              "      <td>12</td>\n",
              "      <td>2.0</td>\n",
              "      <td>28.0</td>\n",
              "      <td>0.5</td>\n",
              "      <td>1738</td>\n",
              "      <td>0.713</td>\n",
              "      <td>1.010</td>\n",
              "    </tr>\n",
              "    <tr>\n",
              "      <th>4</th>\n",
              "      <td>OAS2_0002</td>\n",
              "      <td>OAS2_0002_MR3</td>\n",
              "      <td>Demented</td>\n",
              "      <td>3</td>\n",
              "      <td>1895</td>\n",
              "      <td>M</td>\n",
              "      <td>R</td>\n",
              "      <td>80</td>\n",
              "      <td>12</td>\n",
              "      <td>2.0</td>\n",
              "      <td>22.0</td>\n",
              "      <td>0.5</td>\n",
              "      <td>1698</td>\n",
              "      <td>0.701</td>\n",
              "      <td>1.034</td>\n",
              "    </tr>\n",
              "  </tbody>\n",
              "</table>\n",
              "</div>"
            ],
            "text/plain": [
              "  Subject ID         MRI ID        Group  Visit  MR Delay Gender Hand  Age  \\\n",
              "0  OAS2_0001  OAS2_0001_MR1  Nondemented      1         0      M    R   87   \n",
              "1  OAS2_0001  OAS2_0001_MR2  Nondemented      2       457      M    R   88   \n",
              "2  OAS2_0002  OAS2_0002_MR1     Demented      1         0      M    R   75   \n",
              "3  OAS2_0002  OAS2_0002_MR2     Demented      2       560      M    R   76   \n",
              "4  OAS2_0002  OAS2_0002_MR3     Demented      3      1895      M    R   80   \n",
              "\n",
              "   EDUC  SES  MMSE  CDR  eTIV   nWBV    ASF  \n",
              "0    14  2.0  27.0  0.0  1987  0.696  0.883  \n",
              "1    14  2.0  30.0  0.0  2004  0.681  0.876  \n",
              "2    12  2.0  23.0  0.5  1678  0.736  1.046  \n",
              "3    12  2.0  28.0  0.5  1738  0.713  1.010  \n",
              "4    12  2.0  22.0  0.5  1698  0.701  1.034  "
            ]
          },
          "execution_count": 16,
          "metadata": {},
          "output_type": "execute_result"
        }
      ],
      "source": [
        "df.head()"
      ]
    },
    {
      "cell_type": "code",
      "execution_count": 17,
      "metadata": {
        "colab": {
          "base_uri": "https://localhost:8080/"
        },
        "id": "wyO7xjKzDAxH",
        "outputId": "7ec33b8a-eac1-4555-8ca4-7bdc145f347d"
      },
      "outputs": [
        {
          "data": {
            "text/plain": [
              "array(['M', 'F'], dtype=object)"
            ]
          },
          "execution_count": 17,
          "metadata": {},
          "output_type": "execute_result"
        }
      ],
      "source": [
        "df['Gender'].unique()"
      ]
    },
    {
      "cell_type": "code",
      "execution_count": 18,
      "metadata": {
        "colab": {
          "base_uri": "https://localhost:8080/"
        },
        "id": "QcDU9-p_DAxH",
        "outputId": "1c2ad37e-bdad-436f-fa79-1bc620ca7789"
      },
      "outputs": [
        {
          "data": {
            "text/plain": [
              "array(['Nondemented', 'Demented', 'Converted'], dtype=object)"
            ]
          },
          "execution_count": 18,
          "metadata": {},
          "output_type": "execute_result"
        }
      ],
      "source": [
        "df['Group'].unique()   # converted refers to people who were initially classified as non demented but later were classified as demented"
      ]
    },
    {
      "cell_type": "code",
      "execution_count": 19,
      "metadata": {
        "id": "IvsUXqJtDAxH"
      },
      "outputs": [],
      "source": [
        "males_total  = len(df[df['Gender'] == 'M'])\n",
        "females_total = len(df[df['Gender'] == 'F'])"
      ]
    },
    {
      "cell_type": "code",
      "execution_count": 20,
      "metadata": {
        "id": "ApQAz5DjDAxH"
      },
      "outputs": [],
      "source": [
        "males_demented = len(df[ (df['Gender'] == 'M')   &  (df['Group'] != \"Nondemented\")  ])\n",
        "females_demented = len(df[ (df['Gender'] == 'F')   &  (df['Group'] != \"Nondemented\")  ])"
      ]
    },
    {
      "cell_type": "code",
      "execution_count": 21,
      "metadata": {
        "colab": {
          "base_uri": "https://localhost:8080/"
        },
        "id": "GAIaOFpyDAxH",
        "outputId": "c2d42ba4-5522-46ae-ba31-7d78ec84dd77"
      },
      "outputs": [
        {
          "data": {
            "text/plain": [
              "[160, 213]"
            ]
          },
          "execution_count": 21,
          "metadata": {},
          "output_type": "execute_result"
        }
      ],
      "source": [
        "tot = []\n",
        "tot.append(males_total)\n",
        "tot.append(females_total)\n",
        "tot"
      ]
    },
    {
      "cell_type": "code",
      "execution_count": 22,
      "metadata": {
        "colab": {
          "base_uri": "https://localhost:8080/"
        },
        "id": "KlErKta5DAxI",
        "outputId": "37397339-0223-4bf7-88f5-85c4af7345e0"
      },
      "outputs": [
        {
          "data": {
            "text/plain": [
              "[99, 84]"
            ]
          },
          "execution_count": 22,
          "metadata": {},
          "output_type": "execute_result"
        }
      ],
      "source": [
        "dem = []\n",
        "dem.append(males_demented)\n",
        "dem.append(females_demented)\n",
        "dem"
      ]
    },
    {
      "cell_type": "code",
      "execution_count": 23,
      "metadata": {
        "colab": {
          "base_uri": "https://localhost:8080/",
          "height": 315
        },
        "id": "1Sr1Cr7oDAxI",
        "outputId": "f2defc49-a302-43ac-ff1d-6c68392fa16e"
      },
      "outputs": [
        {
          "data": {
            "image/png": "[encoded data removed]",
            "text/plain": [
              "<Figure size 432x288 with 1 Axes>"
            ]
          },
          "metadata": {
            "needs_background": "light"
          },
          "output_type": "display_data"
        }
      ],
      "source": [
        "n = 2\n",
        "X_axis = np.arange(n)\n",
        "X = ['Males' , 'Females']\n",
        "\n",
        "plt.bar(X_axis - 0.1   , tot , label = 'Total' , width = 0.2)\n",
        "plt.bar(X_axis + 0.1 , dem , label = 'Demented' , width = 0.2)\n",
        "\n",
        "plt.xticks(X_axis , X)\n",
        "plt.xlabel(\"Gender\" , color = \"blue\" , fontweight = \"bold\" , fontsize = 14)\n",
        "plt.ylabel(\"Number of Subjects\" , color = \"blue\" , fontweight = \"bold\" , fontsize = 14 , labelpad = 16)\n",
        "plt.title(\"Gender VS Dementia\", fontweight = \"bold\" , fontsize = 18 , pad = 18)\n",
        "plt.legend()\n",
        "plt.show()"
      ]
    },
    {
      "cell_type": "code",
      "execution_count": 24,
      "metadata": {
        "id": "gaDQkyZIDAxI"
      },
      "outputs": [],
      "source": [
        "ses_cat = df['SES'].unique()"
      ]
    },
    {
      "cell_type": "code",
      "execution_count": 25,
      "metadata": {
        "id": "nsT54YjsDAxI"
      },
      "outputs": [],
      "source": [
        "ses_cat.sort()"
      ]
    },
    {
      "cell_type": "code",
      "execution_count": 26,
      "metadata": {
        "colab": {
          "base_uri": "https://localhost:8080/"
        },
        "id": "_43EMJkBDAxI",
        "outputId": "dcb6a0a0-7634-4089-8f35-c2d185a69969"
      },
      "outputs": [
        {
          "data": {
            "text/plain": [
              "array([1., 2., 3., 4., 5.])"
            ]
          },
          "execution_count": 26,
          "metadata": {},
          "output_type": "execute_result"
        }
      ],
      "source": [
        "ses_cat\n",
        "    "
      ]
    },
    {
      "cell_type": "code",
      "execution_count": 27,
      "metadata": {
        "id": "QKt80GyRDAxI"
      },
      "outputs": [],
      "source": [
        "ses_dem = []\n",
        "\n",
        "for i in ses_cat : \n",
        "    ses_dem.append(len( df[ (df['SES'] == i) & (df['Group'] != \"Nondemented\") ] ))"
      ]
    },
    {
      "cell_type": "code",
      "execution_count": 28,
      "metadata": {
        "colab": {
          "base_uri": "https://localhost:8080/"
        },
        "id": "KPimDIrXDAxJ",
        "outputId": "6ab235aa-3199-414f-d729-205eef60b339"
      },
      "outputs": [
        {
          "data": {
            "text/plain": [
              "[47, 51, 40, 40, 5]"
            ]
          },
          "execution_count": 28,
          "metadata": {},
          "output_type": "execute_result"
        }
      ],
      "source": [
        "ses_dem"
      ]
    },
    {
      "cell_type": "code",
      "execution_count": 29,
      "metadata": {
        "colab": {
          "base_uri": "https://localhost:8080/",
          "height": 397
        },
        "id": "HxqePhqoDAxJ",
        "outputId": "72c7a122-574a-42a2-9015-a28668d85c53"
      },
      "outputs": [
        {
          "data": {
            "image/png": "[encoded data removed]",
            "text/plain": [
              "<Figure size 432x288 with 1 Axes>"
            ]
          },
          "metadata": {
            "needs_background": "light"
          },
          "output_type": "display_data"
        }
      ],
      "source": [
        "fig = plt.figure()\n",
        "X = ['Very High SES' , 'High SES' , 'Average SES' , 'Low SES' , 'Very Low SES']\n",
        "ax = fig.add_axes([0,0,1,1])\n",
        "ax.bar(X , ses_dem , color = ['firebrick' , 'royalblue' , 'limegreen' , 'yellow' , 'magenta'])\n",
        "ax.set_xlabel('SocioEconomic Status' , color = 'blue' , fontweight = 'bold' , fontsize = 14 , labelpad = 15)\n",
        "ax.set_ylabel('Number of Demented Subjects' , color = 'blue' , fontweight = 'bold' , fontsize = 14 , labelpad = 15)\n",
        "plt.title(\"SocioEconomic Status VS Dementia\", fontweight = \"bold\" , fontsize = 18 , pad = 18)\n",
        "plt.show()"
      ]
    },
    {
      "cell_type": "code",
      "execution_count": 30,
      "metadata": {
        "id": "yZjWzIzDDAxJ"
      },
      "outputs": [],
      "source": [
        "age = df['Age']\n",
        "norm_brain = df['nWBV']\n",
        "norm_brain = norm_brain*1000"
      ]
    },
    {
      "cell_type": "code",
      "execution_count": 31,
      "metadata": {
        "colab": {
          "base_uri": "https://localhost:8080/",
          "height": 397
        },
        "id": "81WYpvk1DAxJ",
        "outputId": "24a68486-8d7c-4e5a-e9f7-6e7c67f3d267"
      },
      "outputs": [
        {
          "data": {
            "image/png": "[encoded data removed]",
            "text/plain": [
              "<Figure size 432x288 with 1 Axes>"
            ]
          },
          "metadata": {
            "needs_background": "light"
          },
          "output_type": "display_data"
        }
      ],
      "source": [
        "fig = plt.figure()\n",
        "ax = fig.add_axes([0,0,1,1])\n",
        "ax.scatter(age,norm_brain , color = 'limegreen')\n",
        "ax.set_xlabel('Age' , color = 'blue' , fontweight = 'bold' , fontsize = 14 , labelpad = 15)\n",
        "ax.set_ylabel('Whole Brain Volume [mL]' , color = 'blue' , fontweight = 'bold' , fontsize = 14 , labelpad = 15)\n",
        "plt.title('Age VS Whole Brain Volume' , fontweight = \"bold\" , fontsize = 18 , pad = 18)\n",
        "plt.show()"
      ]
    },
    {
      "cell_type": "code",
      "execution_count": 32,
      "metadata": {
        "colab": {
          "base_uri": "https://localhost:8080/"
        },
        "id": "dFN5Rm7BDAxJ",
        "outputId": "9fff065c-3bf0-447f-e7e2-9dfcd743ceaf"
      },
      "outputs": [
        {
          "data": {
            "text/plain": [
              "array([0. , 0.5, 1. , 2. ])"
            ]
          },
          "execution_count": 32,
          "metadata": {},
          "output_type": "execute_result"
        }
      ],
      "source": [
        "cdr = df['CDR'].unique()\n",
        "cdr"
      ]
    },
    {
      "cell_type": "code",
      "execution_count": 33,
      "metadata": {
        "id": "w1bS3zsKDAxJ"
      },
      "outputs": [],
      "source": [
        "cdr_dem = []\n",
        "cdr_tot = []\n",
        "for i in cdr :\n",
        "    cdr_dem.append(len(df[ (df['CDR'] == i)  &  (df['Group'] != 'Nondemented') ]))\n",
        "    cdr_tot.append(len(df[df['CDR'] == i]))\n",
        "\n",
        "    "
      ]
    },
    {
      "cell_type": "code",
      "execution_count": 34,
      "metadata": {
        "colab": {
          "base_uri": "https://localhost:8080/"
        },
        "id": "3mn_C8v2DAxJ",
        "outputId": "3dbd6570-7e43-4397-f28c-56945953687a"
      },
      "outputs": [
        {
          "data": {
            "text/plain": [
              "[8.74, 98.37, 100.0, 100.0]"
            ]
          },
          "execution_count": 34,
          "metadata": {},
          "output_type": "execute_result"
        }
      ],
      "source": [
        "cdr_perc = []\n",
        "for i in range(4) : \n",
        "    cdr_perc.append( round(  ((cdr_dem[i] / cdr_tot[i])*100) , 2 ) ) \n",
        "\n",
        "\n",
        "cdr_perc \n",
        "    "
      ]
    },
    {
      "cell_type": "code",
      "execution_count": 35,
      "metadata": {
        "colab": {
          "base_uri": "https://localhost:8080/",
          "height": 397
        },
        "id": "CUnNZursDAxK",
        "outputId": "ace3ad67-945e-4bc9-9b09-37e7c29ae1b4"
      },
      "outputs": [
        {
          "data": {
            "image/png": "[encoded data removed]",
            "text/plain": [
              "<Figure size 432x288 with 1 Axes>"
            ]
          },
          "metadata": {
            "needs_background": "light"
          },
          "output_type": "display_data"
        }
      ],
      "source": [
        "X = ['None' , 'Very Mild' , 'Mild' , 'Moderate/Severe']\n",
        "\n",
        "fig = plt.figure()\n",
        "\n",
        "ax = fig.add_axes([0,0,1,1])\n",
        "ax.bar(X , cdr_perc , color = ['firebrick' , 'royalblue' , 'limegreen' , 'yellow' , 'magenta'])\n",
        "ax.set_xlabel('Clinical Dementia Rating' , color = 'blue' , fontweight = 'bold' , fontsize = 14 , labelpad = 15)\n",
        "ax.set_ylabel('Percentage of Subjects with Dementia' , color = 'blue' , fontweight = 'bold' , fontsize = 14 , labelpad = 15)\n",
        "plt.title(\"Dementia dependence on CDR\", fontweight = \"bold\" , fontsize = 18 , pad = 18)\n",
        "plt.show()"
      ]
    },
    {
      "cell_type": "code",
      "execution_count": 36,
      "metadata": {
        "id": "VtR3yI9HDAxK"
      },
      "outputs": [],
      "source": [
        "m_dem = df.Age[((df['Group'] != \"Nondemented\") & (df['Gender'] == \"M\"))]\n",
        "f_dem = df.Age[ (df['Group'] != \"Nondemented\") & (df['Gender'] == \"F\")]\n",
        "m_nondem = df.Age[ (df['Group'] == \"Nondemented\") & (df['Gender'] == \"M\")]\n",
        "f_nondem = df.Age[ (df['Group'] == \"Nondemented\") & (df['Gender'] == \"F\")]"
      ]
    },
    {
      "cell_type": "code",
      "execution_count": 37,
      "metadata": {
        "colab": {
          "base_uri": "https://localhost:8080/",
          "height": 571
        },
        "id": "6dPoLIwMDAxK",
        "outputId": "ed312c55-a20d-4a49-aa7c-b877596b767b"
      },
      "outputs": [
        {
          "data": {
            "image/png": "[encoded data removed]",
            "text/plain": [
              "<Figure size 720x576 with 1 Axes>"
            ]
          },
          "metadata": {
            "needs_background": "light"
          },
          "output_type": "display_data"
        }
      ],
      "source": [
        "plot_data = [m_dem , f_dem , m_nondem , f_nondem]\n",
        "lab = [\"Demented Males\" , \"Demented Females\" , \"Non Demented Males\" , \"Non Demented Females\"]\n",
        "plt.figure(figsize = (10,8))\n",
        "colors = ['deepskyblue' , 'mediumspringgreen' , 'hotpink' , 'yellow']\n",
        "bplot = plt.boxplot(plot_data , labels = lab , patch_artist = True )\n",
        "\n",
        "\n",
        "    \n",
        "for patch, color in zip(bplot['boxes'], colors):\n",
        "    patch.set_facecolor(color)\n",
        "\n",
        "plt.title(\"Age Comparision\", fontweight = \"bold\" , fontsize = 18 , pad = 18)\n",
        "\n",
        "plt.ylabel('Years' , color = 'blue' , fontweight = 'bold' , fontsize = 14 , labelpad = 15)\n",
        "\n",
        "plt.show()"
      ]
    },
    {
      "cell_type": "markdown",
      "metadata": {
        "id": "DFsI7VDtDAxK"
      },
      "source": [
        "## Analysis"
      ]
    },
    {
      "cell_type": "code",
      "execution_count": 38,
      "metadata": {
        "colab": {
          "base_uri": "https://localhost:8080/",
          "height": 162
        },
        "id": "vZ7oezZMDAxK",
        "outputId": "a717e7c6-e1c4-4827-9092-cda987bd2fb9"
      },
      "outputs": [
        {
          "name": "stdout",
          "output_type": "stream",
          "text": [
            "\n",
            "\n",
            "The analysis that has been carried out from the various graphs based on the data in the dataset are : \n",
            "\n",
            "1) Higher percentage of males are demented than females\n",
            "2) The SES has little or no effect on dementia as almost all the different SES categories have the same number of demented subjects [very poor being the exception]\n",
            "3) The Whole Brain Volume has a lot of variance for a given age however it has a slightly negative linear relation with age\n",
            "4) Clinical Dementia Rating is highly correlated to our target variable. 100% of people with a CDR higher than 0.5 have been classified as demented.\n",
            "\n",
            "\n"
          ]
        }
      ],
      "source": [
        "print('''\n",
        "\n",
        "The analysis that has been carried out from the various graphs based on the data in the dataset are : \n",
        "\n",
        "1) Higher percentage of males are demented than females\n",
        "2) The SES has little or no effect on dementia as almost all the different SES categories have the same number of demented subjects [very poor being the exception]\n",
        "3) The Whole Brain Volume has a lot of variance for a given age however it has a slightly negative linear relation with age\n",
        "4) Clinical Dementia Rating is highly correlated to our target variable. 100% of people with a CDR higher than 0.5 have been classified as demented.\n",
        "\n",
        "''')"
      ]
    },
    {
      "cell_type": "markdown",
      "metadata": {
        "id": "zN_EVCHfDAxK"
      },
      "source": [
        "# Data Preprocessing "
      ]
    },
    {
      "cell_type": "code",
      "execution_count": 39,
      "metadata": {
        "id": "OV3Kxb-2DAxL"
      },
      "outputs": [],
      "source": [
        "df['Hand'] = df['Hand'].replace(['R','L'], [0,1])"
      ]
    },
    {
      "cell_type": "code",
      "execution_count": 40,
      "metadata": {
        "colab": {
          "base_uri": "https://localhost:8080/",
          "height": 505
        },
        "id": "g0BOlj_kDAxL",
        "outputId": "24852cde-d309-4983-fde5-645bd0e01fc1"
      },
      "outputs": [
        {
          "data": {
            "text/html": [
              "<div>\n",
              "<style scoped>\n",
              "    .dataframe tbody tr th:only-of-type {\n",
              "        vertical-align: middle;\n",
              "    }\n",
              "\n",
              "    .dataframe tbody tr th {\n",
              "        vertical-align: top;\n",
              "    }\n",
              "\n",
              "    .dataframe thead th {\n",
              "        text-align: right;\n",
              "    }\n",
              "</style>\n",
              "<table border=\"1\" class=\"dataframe\">\n",
              "  <thead>\n",
              "    <tr style=\"text-align: right;\">\n",
              "      <th></th>\n",
              "      <th>Subject ID</th>\n",
              "      <th>MRI ID</th>\n",
              "      <th>Group</th>\n",
              "      <th>Visit</th>\n",
              "      <th>MR Delay</th>\n",
              "      <th>Gender</th>\n",
              "      <th>Hand</th>\n",
              "      <th>Age</th>\n",
              "      <th>EDUC</th>\n",
              "      <th>SES</th>\n",
              "      <th>MMSE</th>\n",
              "      <th>CDR</th>\n",
              "      <th>eTIV</th>\n",
              "      <th>nWBV</th>\n",
              "      <th>ASF</th>\n",
              "    </tr>\n",
              "  </thead>\n",
              "  <tbody>\n",
              "    <tr>\n",
              "      <th>0</th>\n",
              "      <td>OAS2_0001</td>\n",
              "      <td>OAS2_0001_MR1</td>\n",
              "      <td>Nondemented</td>\n",
              "      <td>1</td>\n",
              "      <td>0</td>\n",
              "      <td>M</td>\n",
              "      <td>0</td>\n",
              "      <td>87</td>\n",
              "      <td>14</td>\n",
              "      <td>2.0</td>\n",
              "      <td>27.0</td>\n",
              "      <td>0.0</td>\n",
              "      <td>1987</td>\n",
              "      <td>0.696</td>\n",
              "      <td>0.883</td>\n",
              "    </tr>\n",
              "    <tr>\n",
              "      <th>1</th>\n",
              "      <td>OAS2_0001</td>\n",
              "      <td>OAS2_0001_MR2</td>\n",
              "      <td>Nondemented</td>\n",
              "      <td>2</td>\n",
              "      <td>457</td>\n",
              "      <td>M</td>\n",
              "      <td>0</td>\n",
              "      <td>88</td>\n",
              "      <td>14</td>\n",
              "      <td>2.0</td>\n",
              "      <td>30.0</td>\n",
              "      <td>0.0</td>\n",
              "      <td>2004</td>\n",
              "      <td>0.681</td>\n",
              "      <td>0.876</td>\n",
              "    </tr>\n",
              "    <tr>\n",
              "      <th>2</th>\n",
              "      <td>OAS2_0002</td>\n",
              "      <td>OAS2_0002_MR1</td>\n",
              "      <td>Demented</td>\n",
              "      <td>1</td>\n",
              "      <td>0</td>\n",
              "      <td>M</td>\n",
              "      <td>0</td>\n",
              "      <td>75</td>\n",
              "      <td>12</td>\n",
              "      <td>2.0</td>\n",
              "      <td>23.0</td>\n",
              "      <td>0.5</td>\n",
              "      <td>1678</td>\n",
              "      <td>0.736</td>\n",
              "      <td>1.046</td>\n",
              "    </tr>\n",
              "    <tr>\n",
              "      <th>3</th>\n",
              "      <td>OAS2_0002</td>\n",
              "      <td>OAS2_0002_MR2</td>\n",
              "      <td>Demented</td>\n",
              "      <td>2</td>\n",
              "      <td>560</td>\n",
              "      <td>M</td>\n",
              "      <td>0</td>\n",
              "      <td>76</td>\n",
              "      <td>12</td>\n",
              "      <td>2.0</td>\n",
              "      <td>28.0</td>\n",
              "      <td>0.5</td>\n",
              "      <td>1738</td>\n",
              "      <td>0.713</td>\n",
              "      <td>1.010</td>\n",
              "    </tr>\n",
              "    <tr>\n",
              "      <th>4</th>\n",
              "      <td>OAS2_0002</td>\n",
              "      <td>OAS2_0002_MR3</td>\n",
              "      <td>Demented</td>\n",
              "      <td>3</td>\n",
              "      <td>1895</td>\n",
              "      <td>M</td>\n",
              "      <td>0</td>\n",
              "      <td>80</td>\n",
              "      <td>12</td>\n",
              "      <td>2.0</td>\n",
              "      <td>22.0</td>\n",
              "      <td>0.5</td>\n",
              "      <td>1698</td>\n",
              "      <td>0.701</td>\n",
              "      <td>1.034</td>\n",
              "    </tr>\n",
              "    <tr>\n",
              "      <th>...</th>\n",
              "      <td>...</td>\n",
              "      <td>...</td>\n",
              "      <td>...</td>\n",
              "      <td>...</td>\n",
              "      <td>...</td>\n",
              "      <td>...</td>\n",
              "      <td>...</td>\n",
              "      <td>...</td>\n",
              "      <td>...</td>\n",
              "      <td>...</td>\n",
              "      <td>...</td>\n",
              "      <td>...</td>\n",
              "      <td>...</td>\n",
              "      <td>...</td>\n",
              "      <td>...</td>\n",
              "    </tr>\n",
              "    <tr>\n",
              "      <th>368</th>\n",
              "      <td>OAS2_0185</td>\n",
              "      <td>OAS2_0185_MR2</td>\n",
              "      <td>Demented</td>\n",
              "      <td>2</td>\n",
              "      <td>842</td>\n",
              "      <td>M</td>\n",
              "      <td>0</td>\n",
              "      <td>82</td>\n",
              "      <td>16</td>\n",
              "      <td>1.0</td>\n",
              "      <td>28.0</td>\n",
              "      <td>0.5</td>\n",
              "      <td>1693</td>\n",
              "      <td>0.694</td>\n",
              "      <td>1.037</td>\n",
              "    </tr>\n",
              "    <tr>\n",
              "      <th>369</th>\n",
              "      <td>OAS2_0185</td>\n",
              "      <td>OAS2_0185_MR3</td>\n",
              "      <td>Demented</td>\n",
              "      <td>3</td>\n",
              "      <td>2297</td>\n",
              "      <td>M</td>\n",
              "      <td>0</td>\n",
              "      <td>86</td>\n",
              "      <td>16</td>\n",
              "      <td>1.0</td>\n",
              "      <td>26.0</td>\n",
              "      <td>0.5</td>\n",
              "      <td>1688</td>\n",
              "      <td>0.675</td>\n",
              "      <td>1.040</td>\n",
              "    </tr>\n",
              "    <tr>\n",
              "      <th>370</th>\n",
              "      <td>OAS2_0186</td>\n",
              "      <td>OAS2_0186_MR1</td>\n",
              "      <td>Nondemented</td>\n",
              "      <td>1</td>\n",
              "      <td>0</td>\n",
              "      <td>F</td>\n",
              "      <td>0</td>\n",
              "      <td>61</td>\n",
              "      <td>13</td>\n",
              "      <td>2.0</td>\n",
              "      <td>30.0</td>\n",
              "      <td>0.0</td>\n",
              "      <td>1319</td>\n",
              "      <td>0.801</td>\n",
              "      <td>1.331</td>\n",
              "    </tr>\n",
              "    <tr>\n",
              "      <th>371</th>\n",
              "      <td>OAS2_0186</td>\n",
              "      <td>OAS2_0186_MR2</td>\n",
              "      <td>Nondemented</td>\n",
              "      <td>2</td>\n",
              "      <td>763</td>\n",
              "      <td>F</td>\n",
              "      <td>0</td>\n",
              "      <td>63</td>\n",
              "      <td>13</td>\n",
              "      <td>2.0</td>\n",
              "      <td>30.0</td>\n",
              "      <td>0.0</td>\n",
              "      <td>1327</td>\n",
              "      <td>0.796</td>\n",
              "      <td>1.323</td>\n",
              "    </tr>\n",
              "    <tr>\n",
              "      <th>372</th>\n",
              "      <td>OAS2_0186</td>\n",
              "      <td>OAS2_0186_MR3</td>\n",
              "      <td>Nondemented</td>\n",
              "      <td>3</td>\n",
              "      <td>1608</td>\n",
              "      <td>F</td>\n",
              "      <td>0</td>\n",
              "      <td>65</td>\n",
              "      <td>13</td>\n",
              "      <td>2.0</td>\n",
              "      <td>30.0</td>\n",
              "      <td>0.0</td>\n",
              "      <td>1333</td>\n",
              "      <td>0.801</td>\n",
              "      <td>1.317</td>\n",
              "    </tr>\n",
              "  </tbody>\n",
              "</table>\n",
              "<p>373 rows × 15 columns</p>\n",
              "</div>"
            ],
            "text/plain": [
              "    Subject ID         MRI ID        Group  Visit  MR Delay Gender  Hand  Age  \\\n",
              "0    OAS2_0001  OAS2_0001_MR1  Nondemented      1         0      M     0   87   \n",
              "1    OAS2_0001  OAS2_0001_MR2  Nondemented      2       457      M     0   88   \n",
              "2    OAS2_0002  OAS2_0002_MR1     Demented      1         0      M     0   75   \n",
              "3    OAS2_0002  OAS2_0002_MR2     Demented      2       560      M     0   76   \n",
              "4    OAS2_0002  OAS2_0002_MR3     Demented      3      1895      M     0   80   \n",
              "..         ...            ...          ...    ...       ...    ...   ...  ...   \n",
              "368  OAS2_0185  OAS2_0185_MR2     Demented      2       842      M     0   82   \n",
              "369  OAS2_0185  OAS2_0185_MR3     Demented      3      2297      M     0   86   \n",
              "370  OAS2_0186  OAS2_0186_MR1  Nondemented      1         0      F     0   61   \n",
              "371  OAS2_0186  OAS2_0186_MR2  Nondemented      2       763      F     0   63   \n",
              "372  OAS2_0186  OAS2_0186_MR3  Nondemented      3      1608      F     0   65   \n",
              "\n",
              "     EDUC  SES  MMSE  CDR  eTIV   nWBV    ASF  \n",
              "0      14  2.0  27.0  0.0  1987  0.696  0.883  \n",
              "1      14  2.0  30.0  0.0  2004  0.681  0.876  \n",
              "2      12  2.0  23.0  0.5  1678  0.736  1.046  \n",
              "3      12  2.0  28.0  0.5  1738  0.713  1.010  \n",
              "4      12  2.0  22.0  0.5  1698  0.701  1.034  \n",
              "..    ...  ...   ...  ...   ...    ...    ...  \n",
              "368    16  1.0  28.0  0.5  1693  0.694  1.037  \n",
              "369    16  1.0  26.0  0.5  1688  0.675  1.040  \n",
              "370    13  2.0  30.0  0.0  1319  0.801  1.331  \n",
              "371    13  2.0  30.0  0.0  1327  0.796  1.323  \n",
              "372    13  2.0  30.0  0.0  1333  0.801  1.317  \n",
              "\n",
              "[373 rows x 15 columns]"
            ]
          },
          "execution_count": 40,
          "metadata": {},
          "output_type": "execute_result"
        }
      ],
      "source": [
        "df"
      ]
    },
    {
      "cell_type": "code",
      "execution_count": 41,
      "metadata": {
        "id": "TCSqtDDQDAxL"
      },
      "outputs": [],
      "source": [
        "df['Gender'] = df['Gender'].replace(['F','M'], [0,1])\n"
      ]
    },
    {
      "cell_type": "code",
      "execution_count": 42,
      "metadata": {
        "colab": {
          "base_uri": "https://localhost:8080/",
          "height": 505
        },
        "id": "Gm-PeUrqDAxL",
        "outputId": "effc974f-92fb-41fd-a5e4-f8cda036c47b"
      },
      "outputs": [
        {
          "data": {
            "text/html": [
              "<div>\n",
              "<style scoped>\n",
              "    .dataframe tbody tr th:only-of-type {\n",
              "        vertical-align: middle;\n",
              "    }\n",
              "\n",
              "    .dataframe tbody tr th {\n",
              "        vertical-align: top;\n",
              "    }\n",
              "\n",
              "    .dataframe thead th {\n",
              "        text-align: right;\n",
              "    }\n",
              "</style>\n",
              "<table border=\"1\" class=\"dataframe\">\n",
              "  <thead>\n",
              "    <tr style=\"text-align: right;\">\n",
              "      <th></th>\n",
              "      <th>Subject ID</th>\n",
              "      <th>MRI ID</th>\n",
              "      <th>Group</th>\n",
              "      <th>Visit</th>\n",
              "      <th>MR Delay</th>\n",
              "      <th>Gender</th>\n",
              "      <th>Hand</th>\n",
              "      <th>Age</th>\n",
              "      <th>EDUC</th>\n",
              "      <th>SES</th>\n",
              "      <th>MMSE</th>\n",
              "      <th>CDR</th>\n",
              "      <th>eTIV</th>\n",
              "      <th>nWBV</th>\n",
              "      <th>ASF</th>\n",
              "    </tr>\n",
              "  </thead>\n",
              "  <tbody>\n",
              "    <tr>\n",
              "      <th>0</th>\n",
              "      <td>OAS2_0001</td>\n",
              "      <td>OAS2_0001_MR1</td>\n",
              "      <td>Nondemented</td>\n",
              "      <td>1</td>\n",
              "      <td>0</td>\n",
              "      <td>1</td>\n",
              "      <td>0</td>\n",
              "      <td>87</td>\n",
              "      <td>14</td>\n",
              "      <td>2.0</td>\n",
              "      <td>27.0</td>\n",
              "      <td>0.0</td>\n",
              "      <td>1987</td>\n",
              "      <td>0.696</td>\n",
              "      <td>0.883</td>\n",
              "    </tr>\n",
              "    <tr>\n",
              "      <th>1</th>\n",
              "      <td>OAS2_0001</td>\n",
              "      <td>OAS2_0001_MR2</td>\n",
              "      <td>Nondemented</td>\n",
              "      <td>2</td>\n",
              "      <td>457</td>\n",
              "      <td>1</td>\n",
              "      <td>0</td>\n",
              "      <td>88</td>\n",
              "      <td>14</td>\n",
              "      <td>2.0</td>\n",
              "      <td>30.0</td>\n",
              "      <td>0.0</td>\n",
              "      <td>2004</td>\n",
              "      <td>0.681</td>\n",
              "      <td>0.876</td>\n",
              "    </tr>\n",
              "    <tr>\n",
              "      <th>2</th>\n",
              "      <td>OAS2_0002</td>\n",
              "      <td>OAS2_0002_MR1</td>\n",
              "      <td>Demented</td>\n",
              "      <td>1</td>\n",
              "      <td>0</td>\n",
              "      <td>1</td>\n",
              "      <td>0</td>\n",
              "      <td>75</td>\n",
              "      <td>12</td>\n",
              "      <td>2.0</td>\n",
              "      <td>23.0</td>\n",
              "      <td>0.5</td>\n",
              "      <td>1678</td>\n",
              "      <td>0.736</td>\n",
              "      <td>1.046</td>\n",
              "    </tr>\n",
              "    <tr>\n",
              "      <th>3</th>\n",
              "      <td>OAS2_0002</td>\n",
              "      <td>OAS2_0002_MR2</td>\n",
              "      <td>Demented</td>\n",
              "      <td>2</td>\n",
              "      <td>560</td>\n",
              "      <td>1</td>\n",
              "      <td>0</td>\n",
              "      <td>76</td>\n",
              "      <td>12</td>\n",
              "      <td>2.0</td>\n",
              "      <td>28.0</td>\n",
              "      <td>0.5</td>\n",
              "      <td>1738</td>\n",
              "      <td>0.713</td>\n",
              "      <td>1.010</td>\n",
              "    </tr>\n",
              "    <tr>\n",
              "      <th>4</th>\n",
              "      <td>OAS2_0002</td>\n",
              "      <td>OAS2_0002_MR3</td>\n",
              "      <td>Demented</td>\n",
              "      <td>3</td>\n",
              "      <td>1895</td>\n",
              "      <td>1</td>\n",
              "      <td>0</td>\n",
              "      <td>80</td>\n",
              "      <td>12</td>\n",
              "      <td>2.0</td>\n",
              "      <td>22.0</td>\n",
              "      <td>0.5</td>\n",
              "      <td>1698</td>\n",
              "      <td>0.701</td>\n",
              "      <td>1.034</td>\n",
              "    </tr>\n",
              "    <tr>\n",
              "      <th>...</th>\n",
              "      <td>...</td>\n",
              "      <td>...</td>\n",
              "      <td>...</td>\n",
              "      <td>...</td>\n",
              "      <td>...</td>\n",
              "      <td>...</td>\n",
              "      <td>...</td>\n",
              "      <td>...</td>\n",
              "      <td>...</td>\n",
              "      <td>...</td>\n",
              "      <td>...</td>\n",
              "      <td>...</td>\n",
              "      <td>...</td>\n",
              "      <td>...</td>\n",
              "      <td>...</td>\n",
              "    </tr>\n",
              "    <tr>\n",
              "      <th>368</th>\n",
              "      <td>OAS2_0185</td>\n",
              "      <td>OAS2_0185_MR2</td>\n",
              "      <td>Demented</td>\n",
              "      <td>2</td>\n",
              "      <td>842</td>\n",
              "      <td>1</td>\n",
              "      <td>0</td>\n",
              "      <td>82</td>\n",
              "      <td>16</td>\n",
              "      <td>1.0</td>\n",
              "      <td>28.0</td>\n",
              "      <td>0.5</td>\n",
              "      <td>1693</td>\n",
              "      <td>0.694</td>\n",
              "      <td>1.037</td>\n",
              "    </tr>\n",
              "    <tr>\n",
              "      <th>369</th>\n",
              "      <td>OAS2_0185</td>\n",
              "      <td>OAS2_0185_MR3</td>\n",
              "      <td>Demented</td>\n",
              "      <td>3</td>\n",
              "      <td>2297</td>\n",
              "      <td>1</td>\n",
              "      <td>0</td>\n",
              "      <td>86</td>\n",
              "      <td>16</td>\n",
              "      <td>1.0</td>\n",
              "      <td>26.0</td>\n",
              "      <td>0.5</td>\n",
              "      <td>1688</td>\n",
              "      <td>0.675</td>\n",
              "      <td>1.040</td>\n",
              "    </tr>\n",
              "    <tr>\n",
              "      <th>370</th>\n",
              "      <td>OAS2_0186</td>\n",
              "      <td>OAS2_0186_MR1</td>\n",
              "      <td>Nondemented</td>\n",
              "      <td>1</td>\n",
              "      <td>0</td>\n",
              "      <td>0</td>\n",
              "      <td>0</td>\n",
              "      <td>61</td>\n",
              "      <td>13</td>\n",
              "      <td>2.0</td>\n",
              "      <td>30.0</td>\n",
              "      <td>0.0</td>\n",
              "      <td>1319</td>\n",
              "      <td>0.801</td>\n",
              "      <td>1.331</td>\n",
              "    </tr>\n",
              "    <tr>\n",
              "      <th>371</th>\n",
              "      <td>OAS2_0186</td>\n",
              "      <td>OAS2_0186_MR2</td>\n",
              "      <td>Nondemented</td>\n",
              "      <td>2</td>\n",
              "      <td>763</td>\n",
              "      <td>0</td>\n",
              "      <td>0</td>\n",
              "      <td>63</td>\n",
              "      <td>13</td>\n",
              "      <td>2.0</td>\n",
              "      <td>30.0</td>\n",
              "      <td>0.0</td>\n",
              "      <td>1327</td>\n",
              "      <td>0.796</td>\n",
              "      <td>1.323</td>\n",
              "    </tr>\n",
              "    <tr>\n",
              "      <th>372</th>\n",
              "      <td>OAS2_0186</td>\n",
              "      <td>OAS2_0186_MR3</td>\n",
              "      <td>Nondemented</td>\n",
              "      <td>3</td>\n",
              "      <td>1608</td>\n",
              "      <td>0</td>\n",
              "      <td>0</td>\n",
              "      <td>65</td>\n",
              "      <td>13</td>\n",
              "      <td>2.0</td>\n",
              "      <td>30.0</td>\n",
              "      <td>0.0</td>\n",
              "      <td>1333</td>\n",
              "      <td>0.801</td>\n",
              "      <td>1.317</td>\n",
              "    </tr>\n",
              "  </tbody>\n",
              "</table>\n",
              "<p>373 rows × 15 columns</p>\n",
              "</div>"
            ],
            "text/plain": [
              "    Subject ID         MRI ID        Group  Visit  MR Delay  Gender  Hand  \\\n",
              "0    OAS2_0001  OAS2_0001_MR1  Nondemented      1         0       1     0   \n",
              "1    OAS2_0001  OAS2_0001_MR2  Nondemented      2       457       1     0   \n",
              "2    OAS2_0002  OAS2_0002_MR1     Demented      1         0       1     0   \n",
              "3    OAS2_0002  OAS2_0002_MR2     Demented      2       560       1     0   \n",
              "4    OAS2_0002  OAS2_0002_MR3     Demented      3      1895       1     0   \n",
              "..         ...            ...          ...    ...       ...     ...   ...   \n",
              "368  OAS2_0185  OAS2_0185_MR2     Demented      2       842       1     0   \n",
              "369  OAS2_0185  OAS2_0185_MR3     Demented      3      2297       1     0   \n",
              "370  OAS2_0186  OAS2_0186_MR1  Nondemented      1         0       0     0   \n",
              "371  OAS2_0186  OAS2_0186_MR2  Nondemented      2       763       0     0   \n",
              "372  OAS2_0186  OAS2_0186_MR3  Nondemented      3      1608       0     0   \n",
              "\n",
              "     Age  EDUC  SES  MMSE  CDR  eTIV   nWBV    ASF  \n",
              "0     87    14  2.0  27.0  0.0  1987  0.696  0.883  \n",
              "1     88    14  2.0  30.0  0.0  2004  0.681  0.876  \n",
              "2     75    12  2.0  23.0  0.5  1678  0.736  1.046  \n",
              "3     76    12  2.0  28.0  0.5  1738  0.713  1.010  \n",
              "4     80    12  2.0  22.0  0.5  1698  0.701  1.034  \n",
              "..   ...   ...  ...   ...  ...   ...    ...    ...  \n",
              "368   82    16  1.0  28.0  0.5  1693  0.694  1.037  \n",
              "369   86    16  1.0  26.0  0.5  1688  0.675  1.040  \n",
              "370   61    13  2.0  30.0  0.0  1319  0.801  1.331  \n",
              "371   63    13  2.0  30.0  0.0  1327  0.796  1.323  \n",
              "372   65    13  2.0  30.0  0.0  1333  0.801  1.317  \n",
              "\n",
              "[373 rows x 15 columns]"
            ]
          },
          "execution_count": 42,
          "metadata": {},
          "output_type": "execute_result"
        }
      ],
      "source": [
        "df"
      ]
    },
    {
      "cell_type": "code",
      "execution_count": 43,
      "metadata": {
        "id": "NmG9jlqqDAxL"
      },
      "outputs": [],
      "source": [
        "df['Group'] = df['Group'].replace([\"Nondemented\" , \"Converted\" , \"Demented\"] , [0,1,1])"
      ]
    },
    {
      "cell_type": "code",
      "execution_count": 44,
      "metadata": {
        "colab": {
          "base_uri": "https://localhost:8080/",
          "height": 505
        },
        "id": "uZP-LFEsDAxL",
        "outputId": "06e02e51-880c-410f-8177-fae2046a5370"
      },
      "outputs": [
        {
          "data": {
            "text/html": [
              "<div>\n",
              "<style scoped>\n",
              "    .dataframe tbody tr th:only-of-type {\n",
              "        vertical-align: middle;\n",
              "    }\n",
              "\n",
              "    .dataframe tbody tr th {\n",
              "        vertical-align: top;\n",
              "    }\n",
              "\n",
              "    .dataframe thead th {\n",
              "        text-align: right;\n",
              "    }\n",
              "</style>\n",
              "<table border=\"1\" class=\"dataframe\">\n",
              "  <thead>\n",
              "    <tr style=\"text-align: right;\">\n",
              "      <th></th>\n",
              "      <th>Subject ID</th>\n",
              "      <th>MRI ID</th>\n",
              "      <th>Group</th>\n",
              "      <th>Visit</th>\n",
              "      <th>MR Delay</th>\n",
              "      <th>Gender</th>\n",
              "      <th>Hand</th>\n",
              "      <th>Age</th>\n",
              "      <th>EDUC</th>\n",
              "      <th>SES</th>\n",
              "      <th>MMSE</th>\n",
              "      <th>CDR</th>\n",
              "      <th>eTIV</th>\n",
              "      <th>nWBV</th>\n",
              "      <th>ASF</th>\n",
              "    </tr>\n",
              "  </thead>\n",
              "  <tbody>\n",
              "    <tr>\n",
              "      <th>0</th>\n",
              "      <td>OAS2_0001</td>\n",
              "      <td>OAS2_0001_MR1</td>\n",
              "      <td>0</td>\n",
              "      <td>1</td>\n",
              "      <td>0</td>\n",
              "      <td>1</td>\n",
              "      <td>0</td>\n",
              "      <td>87</td>\n",
              "      <td>14</td>\n",
              "      <td>2.0</td>\n",
              "      <td>27.0</td>\n",
              "      <td>0.0</td>\n",
              "      <td>1987</td>\n",
              "      <td>0.696</td>\n",
              "      <td>0.883</td>\n",
              "    </tr>\n",
              "    <tr>\n",
              "      <th>1</th>\n",
              "      <td>OAS2_0001</td>\n",
              "      <td>OAS2_0001_MR2</td>\n",
              "      <td>0</td>\n",
              "      <td>2</td>\n",
              "      <td>457</td>\n",
              "      <td>1</td>\n",
              "      <td>0</td>\n",
              "      <td>88</td>\n",
              "      <td>14</td>\n",
              "      <td>2.0</td>\n",
              "      <td>30.0</td>\n",
              "      <td>0.0</td>\n",
              "      <td>2004</td>\n",
              "      <td>0.681</td>\n",
              "      <td>0.876</td>\n",
              "    </tr>\n",
              "    <tr>\n",
              "      <th>2</th>\n",
              "      <td>OAS2_0002</td>\n",
              "      <td>OAS2_0002_MR1</td>\n",
              "      <td>1</td>\n",
              "      <td>1</td>\n",
              "      <td>0</td>\n",
              "      <td>1</td>\n",
              "      <td>0</td>\n",
              "      <td>75</td>\n",
              "      <td>12</td>\n",
              "      <td>2.0</td>\n",
              "      <td>23.0</td>\n",
              "      <td>0.5</td>\n",
              "      <td>1678</td>\n",
              "      <td>0.736</td>\n",
              "      <td>1.046</td>\n",
              "    </tr>\n",
              "    <tr>\n",
              "      <th>3</th>\n",
              "      <td>OAS2_0002</td>\n",
              "      <td>OAS2_0002_MR2</td>\n",
              "      <td>1</td>\n",
              "      <td>2</td>\n",
              "      <td>560</td>\n",
              "      <td>1</td>\n",
              "      <td>0</td>\n",
              "      <td>76</td>\n",
              "      <td>12</td>\n",
              "      <td>2.0</td>\n",
              "      <td>28.0</td>\n",
              "      <td>0.5</td>\n",
              "      <td>1738</td>\n",
              "      <td>0.713</td>\n",
              "      <td>1.010</td>\n",
              "    </tr>\n",
              "    <tr>\n",
              "      <th>4</th>\n",
              "      <td>OAS2_0002</td>\n",
              "      <td>OAS2_0002_MR3</td>\n",
              "      <td>1</td>\n",
              "      <td>3</td>\n",
              "      <td>1895</td>\n",
              "      <td>1</td>\n",
              "      <td>0</td>\n",
              "      <td>80</td>\n",
              "      <td>12</td>\n",
              "      <td>2.0</td>\n",
              "      <td>22.0</td>\n",
              "      <td>0.5</td>\n",
              "      <td>1698</td>\n",
              "      <td>0.701</td>\n",
              "      <td>1.034</td>\n",
              "    </tr>\n",
              "    <tr>\n",
              "      <th>...</th>\n",
              "      <td>...</td>\n",
              "      <td>...</td>\n",
              "      <td>...</td>\n",
              "      <td>...</td>\n",
              "      <td>...</td>\n",
              "      <td>...</td>\n",
              "      <td>...</td>\n",
              "      <td>...</td>\n",
              "      <td>...</td>\n",
              "      <td>...</td>\n",
              "      <td>...</td>\n",
              "      <td>...</td>\n",
              "      <td>...</td>\n",
              "      <td>...</td>\n",
              "      <td>...</td>\n",
              "    </tr>\n",
              "    <tr>\n",
              "      <th>368</th>\n",
              "      <td>OAS2_0185</td>\n",
              "      <td>OAS2_0185_MR2</td>\n",
              "      <td>1</td>\n",
              "      <td>2</td>\n",
              "      <td>842</td>\n",
              "      <td>1</td>\n",
              "      <td>0</td>\n",
              "      <td>82</td>\n",
              "      <td>16</td>\n",
              "      <td>1.0</td>\n",
              "      <td>28.0</td>\n",
              "      <td>0.5</td>\n",
              "      <td>1693</td>\n",
              "      <td>0.694</td>\n",
              "      <td>1.037</td>\n",
              "    </tr>\n",
              "    <tr>\n",
              "      <th>369</th>\n",
              "      <td>OAS2_0185</td>\n",
              "      <td>OAS2_0185_MR3</td>\n",
              "      <td>1</td>\n",
              "      <td>3</td>\n",
              "      <td>2297</td>\n",
              "      <td>1</td>\n",
              "      <td>0</td>\n",
              "      <td>86</td>\n",
              "      <td>16</td>\n",
              "      <td>1.0</td>\n",
              "      <td>26.0</td>\n",
              "      <td>0.5</td>\n",
              "      <td>1688</td>\n",
              "      <td>0.675</td>\n",
              "      <td>1.040</td>\n",
              "    </tr>\n",
              "    <tr>\n",
              "      <th>370</th>\n",
              "      <td>OAS2_0186</td>\n",
              "      <td>OAS2_0186_MR1</td>\n",
              "      <td>0</td>\n",
              "      <td>1</td>\n",
              "      <td>0</td>\n",
              "      <td>0</td>\n",
              "      <td>0</td>\n",
              "      <td>61</td>\n",
              "      <td>13</td>\n",
              "      <td>2.0</td>\n",
              "      <td>30.0</td>\n",
              "      <td>0.0</td>\n",
              "      <td>1319</td>\n",
              "      <td>0.801</td>\n",
              "      <td>1.331</td>\n",
              "    </tr>\n",
              "    <tr>\n",
              "      <th>371</th>\n",
              "      <td>OAS2_0186</td>\n",
              "      <td>OAS2_0186_MR2</td>\n",
              "      <td>0</td>\n",
              "      <td>2</td>\n",
              "      <td>763</td>\n",
              "      <td>0</td>\n",
              "      <td>0</td>\n",
              "      <td>63</td>\n",
              "      <td>13</td>\n",
              "      <td>2.0</td>\n",
              "      <td>30.0</td>\n",
              "      <td>0.0</td>\n",
              "      <td>1327</td>\n",
              "      <td>0.796</td>\n",
              "      <td>1.323</td>\n",
              "    </tr>\n",
              "    <tr>\n",
              "      <th>372</th>\n",
              "      <td>OAS2_0186</td>\n",
              "      <td>OAS2_0186_MR3</td>\n",
              "      <td>0</td>\n",
              "      <td>3</td>\n",
              "      <td>1608</td>\n",
              "      <td>0</td>\n",
              "      <td>0</td>\n",
              "      <td>65</td>\n",
              "      <td>13</td>\n",
              "      <td>2.0</td>\n",
              "      <td>30.0</td>\n",
              "      <td>0.0</td>\n",
              "      <td>1333</td>\n",
              "      <td>0.801</td>\n",
              "      <td>1.317</td>\n",
              "    </tr>\n",
              "  </tbody>\n",
              "</table>\n",
              "<p>373 rows × 15 columns</p>\n",
              "</div>"
            ],
            "text/plain": [
              "    Subject ID         MRI ID  Group  Visit  MR Delay  Gender  Hand  Age  \\\n",
              "0    OAS2_0001  OAS2_0001_MR1      0      1         0       1     0   87   \n",
              "1    OAS2_0001  OAS2_0001_MR2      0      2       457       1     0   88   \n",
              "2    OAS2_0002  OAS2_0002_MR1      1      1         0       1     0   75   \n",
              "3    OAS2_0002  OAS2_0002_MR2      1      2       560       1     0   76   \n",
              "4    OAS2_0002  OAS2_0002_MR3      1      3      1895       1     0   80   \n",
              "..         ...            ...    ...    ...       ...     ...   ...  ...   \n",
              "368  OAS2_0185  OAS2_0185_MR2      1      2       842       1     0   82   \n",
              "369  OAS2_0185  OAS2_0185_MR3      1      3      2297       1     0   86   \n",
              "370  OAS2_0186  OAS2_0186_MR1      0      1         0       0     0   61   \n",
              "371  OAS2_0186  OAS2_0186_MR2      0      2       763       0     0   63   \n",
              "372  OAS2_0186  OAS2_0186_MR3      0      3      1608       0     0   65   \n",
              "\n",
              "     EDUC  SES  MMSE  CDR  eTIV   nWBV    ASF  \n",
              "0      14  2.0  27.0  0.0  1987  0.696  0.883  \n",
              "1      14  2.0  30.0  0.0  2004  0.681  0.876  \n",
              "2      12  2.0  23.0  0.5  1678  0.736  1.046  \n",
              "3      12  2.0  28.0  0.5  1738  0.713  1.010  \n",
              "4      12  2.0  22.0  0.5  1698  0.701  1.034  \n",
              "..    ...  ...   ...  ...   ...    ...    ...  \n",
              "368    16  1.0  28.0  0.5  1693  0.694  1.037  \n",
              "369    16  1.0  26.0  0.5  1688  0.675  1.040  \n",
              "370    13  2.0  30.0  0.0  1319  0.801  1.331  \n",
              "371    13  2.0  30.0  0.0  1327  0.796  1.323  \n",
              "372    13  2.0  30.0  0.0  1333  0.801  1.317  \n",
              "\n",
              "[373 rows x 15 columns]"
            ]
          },
          "execution_count": 44,
          "metadata": {},
          "output_type": "execute_result"
        }
      ],
      "source": [
        "df"
      ]
    },
    {
      "cell_type": "code",
      "execution_count": 45,
      "metadata": {
        "id": "OLTiGjKtDAxL"
      },
      "outputs": [],
      "source": [
        "# Categorical data has been converted into numerical data \n",
        "# 0 -> Non Demented    1 -> Demented   [for prediction] \n",
        "# 0 -> Male    1 -> Female   ,   0 -> Right Hand       1 -> Left Hand\n",
        "# now we remove some irrelevant columns like visit , MRI ID , Subject Id and MR Delay as they arent necessary for the model "
      ]
    },
    {
      "cell_type": "code",
      "execution_count": 46,
      "metadata": {
        "id": "wcwb7cnEDAxL"
      },
      "outputs": [],
      "source": [
        "df.drop(['Subject ID' , 'MRI ID' , 'Visit' , 'MR Delay'], axis = 1  , inplace = True)\n"
      ]
    },
    {
      "cell_type": "code",
      "execution_count": 47,
      "metadata": {
        "colab": {
          "base_uri": "https://localhost:8080/",
          "height": 423
        },
        "id": "SgePpaqXDAxL",
        "outputId": "5d002eff-a516-43d8-a56c-b4602d426f99"
      },
      "outputs": [
        {
          "data": {
            "text/html": [
              "<div>\n",
              "<style scoped>\n",
              "    .dataframe tbody tr th:only-of-type {\n",
              "        vertical-align: middle;\n",
              "    }\n",
              "\n",
              "    .dataframe tbody tr th {\n",
              "        vertical-align: top;\n",
              "    }\n",
              "\n",
              "    .dataframe thead th {\n",
              "        text-align: right;\n",
              "    }\n",
              "</style>\n",
              "<table border=\"1\" class=\"dataframe\">\n",
              "  <thead>\n",
              "    <tr style=\"text-align: right;\">\n",
              "      <th></th>\n",
              "      <th>Group</th>\n",
              "      <th>Gender</th>\n",
              "      <th>Hand</th>\n",
              "      <th>Age</th>\n",
              "      <th>EDUC</th>\n",
              "      <th>SES</th>\n",
              "      <th>MMSE</th>\n",
              "      <th>CDR</th>\n",
              "      <th>eTIV</th>\n",
              "      <th>nWBV</th>\n",
              "      <th>ASF</th>\n",
              "    </tr>\n",
              "  </thead>\n",
              "  <tbody>\n",
              "    <tr>\n",
              "      <th>0</th>\n",
              "      <td>0</td>\n",
              "      <td>1</td>\n",
              "      <td>0</td>\n",
              "      <td>87</td>\n",
              "      <td>14</td>\n",
              "      <td>2.0</td>\n",
              "      <td>27.0</td>\n",
              "      <td>0.0</td>\n",
              "      <td>1987</td>\n",
              "      <td>0.696</td>\n",
              "      <td>0.883</td>\n",
              "    </tr>\n",
              "    <tr>\n",
              "      <th>1</th>\n",
              "      <td>0</td>\n",
              "      <td>1</td>\n",
              "      <td>0</td>\n",
              "      <td>88</td>\n",
              "      <td>14</td>\n",
              "      <td>2.0</td>\n",
              "      <td>30.0</td>\n",
              "      <td>0.0</td>\n",
              "      <td>2004</td>\n",
              "      <td>0.681</td>\n",
              "      <td>0.876</td>\n",
              "    </tr>\n",
              "    <tr>\n",
              "      <th>2</th>\n",
              "      <td>1</td>\n",
              "      <td>1</td>\n",
              "      <td>0</td>\n",
              "      <td>75</td>\n",
              "      <td>12</td>\n",
              "      <td>2.0</td>\n",
              "      <td>23.0</td>\n",
              "      <td>0.5</td>\n",
              "      <td>1678</td>\n",
              "      <td>0.736</td>\n",
              "      <td>1.046</td>\n",
              "    </tr>\n",
              "    <tr>\n",
              "      <th>3</th>\n",
              "      <td>1</td>\n",
              "      <td>1</td>\n",
              "      <td>0</td>\n",
              "      <td>76</td>\n",
              "      <td>12</td>\n",
              "      <td>2.0</td>\n",
              "      <td>28.0</td>\n",
              "      <td>0.5</td>\n",
              "      <td>1738</td>\n",
              "      <td>0.713</td>\n",
              "      <td>1.010</td>\n",
              "    </tr>\n",
              "    <tr>\n",
              "      <th>4</th>\n",
              "      <td>1</td>\n",
              "      <td>1</td>\n",
              "      <td>0</td>\n",
              "      <td>80</td>\n",
              "      <td>12</td>\n",
              "      <td>2.0</td>\n",
              "      <td>22.0</td>\n",
              "      <td>0.5</td>\n",
              "      <td>1698</td>\n",
              "      <td>0.701</td>\n",
              "      <td>1.034</td>\n",
              "    </tr>\n",
              "    <tr>\n",
              "      <th>...</th>\n",
              "      <td>...</td>\n",
              "      <td>...</td>\n",
              "      <td>...</td>\n",
              "      <td>...</td>\n",
              "      <td>...</td>\n",
              "      <td>...</td>\n",
              "      <td>...</td>\n",
              "      <td>...</td>\n",
              "      <td>...</td>\n",
              "      <td>...</td>\n",
              "      <td>...</td>\n",
              "    </tr>\n",
              "    <tr>\n",
              "      <th>368</th>\n",
              "      <td>1</td>\n",
              "      <td>1</td>\n",
              "      <td>0</td>\n",
              "      <td>82</td>\n",
              "      <td>16</td>\n",
              "      <td>1.0</td>\n",
              "      <td>28.0</td>\n",
              "      <td>0.5</td>\n",
              "      <td>1693</td>\n",
              "      <td>0.694</td>\n",
              "      <td>1.037</td>\n",
              "    </tr>\n",
              "    <tr>\n",
              "      <th>369</th>\n",
              "      <td>1</td>\n",
              "      <td>1</td>\n",
              "      <td>0</td>\n",
              "      <td>86</td>\n",
              "      <td>16</td>\n",
              "      <td>1.0</td>\n",
              "      <td>26.0</td>\n",
              "      <td>0.5</td>\n",
              "      <td>1688</td>\n",
              "      <td>0.675</td>\n",
              "      <td>1.040</td>\n",
              "    </tr>\n",
              "    <tr>\n",
              "      <th>370</th>\n",
              "      <td>0</td>\n",
              "      <td>0</td>\n",
              "      <td>0</td>\n",
              "      <td>61</td>\n",
              "      <td>13</td>\n",
              "      <td>2.0</td>\n",
              "      <td>30.0</td>\n",
              "      <td>0.0</td>\n",
              "      <td>1319</td>\n",
              "      <td>0.801</td>\n",
              "      <td>1.331</td>\n",
              "    </tr>\n",
              "    <tr>\n",
              "      <th>371</th>\n",
              "      <td>0</td>\n",
              "      <td>0</td>\n",
              "      <td>0</td>\n",
              "      <td>63</td>\n",
              "      <td>13</td>\n",
              "      <td>2.0</td>\n",
              "      <td>30.0</td>\n",
              "      <td>0.0</td>\n",
              "      <td>1327</td>\n",
              "      <td>0.796</td>\n",
              "      <td>1.323</td>\n",
              "    </tr>\n",
              "    <tr>\n",
              "      <th>372</th>\n",
              "      <td>0</td>\n",
              "      <td>0</td>\n",
              "      <td>0</td>\n",
              "      <td>65</td>\n",
              "      <td>13</td>\n",
              "      <td>2.0</td>\n",
              "      <td>30.0</td>\n",
              "      <td>0.0</td>\n",
              "      <td>1333</td>\n",
              "      <td>0.801</td>\n",
              "      <td>1.317</td>\n",
              "    </tr>\n",
              "  </tbody>\n",
              "</table>\n",
              "<p>373 rows × 11 columns</p>\n",
              "</div>"
            ],
            "text/plain": [
              "     Group  Gender  Hand  Age  EDUC  SES  MMSE  CDR  eTIV   nWBV    ASF\n",
              "0        0       1     0   87    14  2.0  27.0  0.0  1987  0.696  0.883\n",
              "1        0       1     0   88    14  2.0  30.0  0.0  2004  0.681  0.876\n",
              "2        1       1     0   75    12  2.0  23.0  0.5  1678  0.736  1.046\n",
              "3        1       1     0   76    12  2.0  28.0  0.5  1738  0.713  1.010\n",
              "4        1       1     0   80    12  2.0  22.0  0.5  1698  0.701  1.034\n",
              "..     ...     ...   ...  ...   ...  ...   ...  ...   ...    ...    ...\n",
              "368      1       1     0   82    16  1.0  28.0  0.5  1693  0.694  1.037\n",
              "369      1       1     0   86    16  1.0  26.0  0.5  1688  0.675  1.040\n",
              "370      0       0     0   61    13  2.0  30.0  0.0  1319  0.801  1.331\n",
              "371      0       0     0   63    13  2.0  30.0  0.0  1327  0.796  1.323\n",
              "372      0       0     0   65    13  2.0  30.0  0.0  1333  0.801  1.317\n",
              "\n",
              "[373 rows x 11 columns]"
            ]
          },
          "execution_count": 47,
          "metadata": {},
          "output_type": "execute_result"
        }
      ],
      "source": [
        "df"
      ]
    },
    {
      "cell_type": "markdown",
      "metadata": {
        "id": "DFVjV1TcDAxL"
      },
      "source": [
        "## Correlation Mapping for Feature Removal"
      ]
    },
    {
      "cell_type": "code",
      "execution_count": 48,
      "metadata": {
        "id": "AlMKalZaDAxL"
      },
      "outputs": [],
      "source": [
        "def plot_correlation_map( df ):\n",
        "    plt.figure(figsize=(16, 6))\n",
        "    heatmap = sns.heatmap(df.corr(), vmin=-1, vmax=1, annot=True, cmap='coolwarm')\n",
        "    heatmap.set_title('Correlation Heatmap', fontdict={'fontsize':18}, pad=12);\n",
        "    heatmap.set_ylim(10.0, 0)"
      ]
    },
    {
      "cell_type": "code",
      "execution_count": 49,
      "metadata": {
        "colab": {
          "base_uri": "https://localhost:8080/",
          "height": 296
        },
        "id": "xYTEp7EYDAxM",
        "outputId": "52722288-ad08-45c5-8d7c-06764e1f08fe"
      },
      "outputs": [
        {
          "data": {
            "image/png": "[encoded data removed]",
            "text/plain": [
              "<Figure size 1152x432 with 2 Axes>"
            ]
          },
          "metadata": {
            "needs_background": "light"
          },
          "output_type": "display_data"
        }
      ],
      "source": [
        "plot_correlation_map(df)"
      ]
    },
    {
      "cell_type": "code",
      "execution_count": 50,
      "metadata": {
        "id": "_MbJ9MyBDAxM"
      },
      "outputs": [],
      "source": [
        "# from the corr. mapping we find the highly correlated features [ threshold here taken as |0.75| ]\n",
        "\n",
        "# Group -> CDR\n",
        "# ASF -> eTIV\n",
        "\n",
        "# so we remove CDR and eTIV from our dataset \n",
        "\n",
        "# CDR is highly correlated with our target variable\n",
        "# However a CDR test is taken generally after a person is confirmed as demneted or has some symptoms\n",
        "# Since its  post prediction data we cannot use it to predict dementia and hence it will be removed\n",
        "\n",
        "# ASF is a way of normalizing eTIV for different subjects\n",
        "# Hence they are highly correlated\n",
        "# Since ASF is standardized medical data we will be retaining it in our dataset \n"
      ]
    },
    {
      "cell_type": "code",
      "execution_count": 51,
      "metadata": {
        "colab": {
          "base_uri": "https://localhost:8080/",
          "height": 423
        },
        "id": "fus1K5ZTDAxM",
        "outputId": "b78203d3-a544-486f-8696-13e1a44ad4eb"
      },
      "outputs": [
        {
          "data": {
            "text/html": [
              "<div>\n",
              "<style scoped>\n",
              "    .dataframe tbody tr th:only-of-type {\n",
              "        vertical-align: middle;\n",
              "    }\n",
              "\n",
              "    .dataframe tbody tr th {\n",
              "        vertical-align: top;\n",
              "    }\n",
              "\n",
              "    .dataframe thead th {\n",
              "        text-align: right;\n",
              "    }\n",
              "</style>\n",
              "<table border=\"1\" class=\"dataframe\">\n",
              "  <thead>\n",
              "    <tr style=\"text-align: right;\">\n",
              "      <th></th>\n",
              "      <th>Group</th>\n",
              "      <th>Gender</th>\n",
              "      <th>Hand</th>\n",
              "      <th>Age</th>\n",
              "      <th>EDUC</th>\n",
              "      <th>SES</th>\n",
              "      <th>MMSE</th>\n",
              "      <th>nWBV</th>\n",
              "      <th>ASF</th>\n",
              "    </tr>\n",
              "  </thead>\n",
              "  <tbody>\n",
              "    <tr>\n",
              "      <th>0</th>\n",
              "      <td>0</td>\n",
              "      <td>1</td>\n",
              "      <td>0</td>\n",
              "      <td>87</td>\n",
              "      <td>14</td>\n",
              "      <td>2.0</td>\n",
              "      <td>27.0</td>\n",
              "      <td>0.696</td>\n",
              "      <td>0.883</td>\n",
              "    </tr>\n",
              "    <tr>\n",
              "      <th>1</th>\n",
              "      <td>0</td>\n",
              "      <td>1</td>\n",
              "      <td>0</td>\n",
              "      <td>88</td>\n",
              "      <td>14</td>\n",
              "      <td>2.0</td>\n",
              "      <td>30.0</td>\n",
              "      <td>0.681</td>\n",
              "      <td>0.876</td>\n",
              "    </tr>\n",
              "    <tr>\n",
              "      <th>2</th>\n",
              "      <td>1</td>\n",
              "      <td>1</td>\n",
              "      <td>0</td>\n",
              "      <td>75</td>\n",
              "      <td>12</td>\n",
              "      <td>2.0</td>\n",
              "      <td>23.0</td>\n",
              "      <td>0.736</td>\n",
              "      <td>1.046</td>\n",
              "    </tr>\n",
              "    <tr>\n",
              "      <th>3</th>\n",
              "      <td>1</td>\n",
              "      <td>1</td>\n",
              "      <td>0</td>\n",
              "      <td>76</td>\n",
              "      <td>12</td>\n",
              "      <td>2.0</td>\n",
              "      <td>28.0</td>\n",
              "      <td>0.713</td>\n",
              "      <td>1.010</td>\n",
              "    </tr>\n",
              "    <tr>\n",
              "      <th>4</th>\n",
              "      <td>1</td>\n",
              "      <td>1</td>\n",
              "      <td>0</td>\n",
              "      <td>80</td>\n",
              "      <td>12</td>\n",
              "      <td>2.0</td>\n",
              "      <td>22.0</td>\n",
              "      <td>0.701</td>\n",
              "      <td>1.034</td>\n",
              "    </tr>\n",
              "    <tr>\n",
              "      <th>...</th>\n",
              "      <td>...</td>\n",
              "      <td>...</td>\n",
              "      <td>...</td>\n",
              "      <td>...</td>\n",
              "      <td>...</td>\n",
              "      <td>...</td>\n",
              "      <td>...</td>\n",
              "      <td>...</td>\n",
              "      <td>...</td>\n",
              "    </tr>\n",
              "    <tr>\n",
              "      <th>368</th>\n",
              "      <td>1</td>\n",
              "      <td>1</td>\n",
              "      <td>0</td>\n",
              "      <td>82</td>\n",
              "      <td>16</td>\n",
              "      <td>1.0</td>\n",
              "      <td>28.0</td>\n",
              "      <td>0.694</td>\n",
              "      <td>1.037</td>\n",
              "    </tr>\n",
              "    <tr>\n",
              "      <th>369</th>\n",
              "      <td>1</td>\n",
              "      <td>1</td>\n",
              "      <td>0</td>\n",
              "      <td>86</td>\n",
              "      <td>16</td>\n",
              "      <td>1.0</td>\n",
              "      <td>26.0</td>\n",
              "      <td>0.675</td>\n",
              "      <td>1.040</td>\n",
              "    </tr>\n",
              "    <tr>\n",
              "      <th>370</th>\n",
              "      <td>0</td>\n",
              "      <td>0</td>\n",
              "      <td>0</td>\n",
              "      <td>61</td>\n",
              "      <td>13</td>\n",
              "      <td>2.0</td>\n",
              "      <td>30.0</td>\n",
              "      <td>0.801</td>\n",
              "      <td>1.331</td>\n",
              "    </tr>\n",
              "    <tr>\n",
              "      <th>371</th>\n",
              "      <td>0</td>\n",
              "      <td>0</td>\n",
              "      <td>0</td>\n",
              "      <td>63</td>\n",
              "      <td>13</td>\n",
              "      <td>2.0</td>\n",
              "      <td>30.0</td>\n",
              "      <td>0.796</td>\n",
              "      <td>1.323</td>\n",
              "    </tr>\n",
              "    <tr>\n",
              "      <th>372</th>\n",
              "      <td>0</td>\n",
              "      <td>0</td>\n",
              "      <td>0</td>\n",
              "      <td>65</td>\n",
              "      <td>13</td>\n",
              "      <td>2.0</td>\n",
              "      <td>30.0</td>\n",
              "      <td>0.801</td>\n",
              "      <td>1.317</td>\n",
              "    </tr>\n",
              "  </tbody>\n",
              "</table>\n",
              "<p>373 rows × 9 columns</p>\n",
              "</div>"
            ],
            "text/plain": [
              "     Group  Gender  Hand  Age  EDUC  SES  MMSE   nWBV    ASF\n",
              "0        0       1     0   87    14  2.0  27.0  0.696  0.883\n",
              "1        0       1     0   88    14  2.0  30.0  0.681  0.876\n",
              "2        1       1     0   75    12  2.0  23.0  0.736  1.046\n",
              "3        1       1     0   76    12  2.0  28.0  0.713  1.010\n",
              "4        1       1     0   80    12  2.0  22.0  0.701  1.034\n",
              "..     ...     ...   ...  ...   ...  ...   ...    ...    ...\n",
              "368      1       1     0   82    16  1.0  28.0  0.694  1.037\n",
              "369      1       1     0   86    16  1.0  26.0  0.675  1.040\n",
              "370      0       0     0   61    13  2.0  30.0  0.801  1.331\n",
              "371      0       0     0   63    13  2.0  30.0  0.796  1.323\n",
              "372      0       0     0   65    13  2.0  30.0  0.801  1.317\n",
              "\n",
              "[373 rows x 9 columns]"
            ]
          },
          "execution_count": 51,
          "metadata": {},
          "output_type": "execute_result"
        }
      ],
      "source": [
        "df.drop(['CDR' , 'eTIV'], axis = 1  , inplace = True)\n",
        "df\n"
      ]
    },
    {
      "cell_type": "markdown",
      "metadata": {
        "id": "W8fvwzvQDAxM"
      },
      "source": [
        "## Data Normalization "
      ]
    },
    {
      "cell_type": "code",
      "execution_count": 52,
      "metadata": {
        "id": "dEkg4pHzDAxM"
      },
      "outputs": [],
      "source": [
        "# Since we plan to deploy this model , we will be dividing the data with fixed values rather than the max "
      ]
    },
    {
      "cell_type": "code",
      "execution_count": 53,
      "metadata": {
        "id": "kjIMKetkDAxM"
      },
      "outputs": [],
      "source": [
        "df['Age'] = df['Age'] / 100\n",
        "df['EDUC'] = df['EDUC'] / 100\n",
        "df['MMSE'] = df['MMSE'] / 30 "
      ]
    },
    {
      "cell_type": "code",
      "execution_count": 54,
      "metadata": {
        "colab": {
          "base_uri": "https://localhost:8080/",
          "height": 423
        },
        "id": "LOy9xLYnDAxM",
        "outputId": "07e3fa86-1512-433f-9706-935b5f1f3ea3"
      },
      "outputs": [
        {
          "data": {
            "text/html": [
              "<div>\n",
              "<style scoped>\n",
              "    .dataframe tbody tr th:only-of-type {\n",
              "        vertical-align: middle;\n",
              "    }\n",
              "\n",
              "    .dataframe tbody tr th {\n",
              "        vertical-align: top;\n",
              "    }\n",
              "\n",
              "    .dataframe thead th {\n",
              "        text-align: right;\n",
              "    }\n",
              "</style>\n",
              "<table border=\"1\" class=\"dataframe\">\n",
              "  <thead>\n",
              "    <tr style=\"text-align: right;\">\n",
              "      <th></th>\n",
              "      <th>Group</th>\n",
              "      <th>Gender</th>\n",
              "      <th>Hand</th>\n",
              "      <th>Age</th>\n",
              "      <th>EDUC</th>\n",
              "      <th>SES</th>\n",
              "      <th>MMSE</th>\n",
              "      <th>nWBV</th>\n",
              "      <th>ASF</th>\n",
              "    </tr>\n",
              "  </thead>\n",
              "  <tbody>\n",
              "    <tr>\n",
              "      <th>0</th>\n",
              "      <td>0</td>\n",
              "      <td>1</td>\n",
              "      <td>0</td>\n",
              "      <td>0.87</td>\n",
              "      <td>0.14</td>\n",
              "      <td>2.0</td>\n",
              "      <td>0.900000</td>\n",
              "      <td>0.696</td>\n",
              "      <td>0.883</td>\n",
              "    </tr>\n",
              "    <tr>\n",
              "      <th>1</th>\n",
              "      <td>0</td>\n",
              "      <td>1</td>\n",
              "      <td>0</td>\n",
              "      <td>0.88</td>\n",
              "      <td>0.14</td>\n",
              "      <td>2.0</td>\n",
              "      <td>1.000000</td>\n",
              "      <td>0.681</td>\n",
              "      <td>0.876</td>\n",
              "    </tr>\n",
              "    <tr>\n",
              "      <th>2</th>\n",
              "      <td>1</td>\n",
              "      <td>1</td>\n",
              "      <td>0</td>\n",
              "      <td>0.75</td>\n",
              "      <td>0.12</td>\n",
              "      <td>2.0</td>\n",
              "      <td>0.766667</td>\n",
              "      <td>0.736</td>\n",
              "      <td>1.046</td>\n",
              "    </tr>\n",
              "    <tr>\n",
              "      <th>3</th>\n",
              "      <td>1</td>\n",
              "      <td>1</td>\n",
              "      <td>0</td>\n",
              "      <td>0.76</td>\n",
              "      <td>0.12</td>\n",
              "      <td>2.0</td>\n",
              "      <td>0.933333</td>\n",
              "      <td>0.713</td>\n",
              "      <td>1.010</td>\n",
              "    </tr>\n",
              "    <tr>\n",
              "      <th>4</th>\n",
              "      <td>1</td>\n",
              "      <td>1</td>\n",
              "      <td>0</td>\n",
              "      <td>0.80</td>\n",
              "      <td>0.12</td>\n",
              "      <td>2.0</td>\n",
              "      <td>0.733333</td>\n",
              "      <td>0.701</td>\n",
              "      <td>1.034</td>\n",
              "    </tr>\n",
              "    <tr>\n",
              "      <th>...</th>\n",
              "      <td>...</td>\n",
              "      <td>...</td>\n",
              "      <td>...</td>\n",
              "      <td>...</td>\n",
              "      <td>...</td>\n",
              "      <td>...</td>\n",
              "      <td>...</td>\n",
              "      <td>...</td>\n",
              "      <td>...</td>\n",
              "    </tr>\n",
              "    <tr>\n",
              "      <th>368</th>\n",
              "      <td>1</td>\n",
              "      <td>1</td>\n",
              "      <td>0</td>\n",
              "      <td>0.82</td>\n",
              "      <td>0.16</td>\n",
              "      <td>1.0</td>\n",
              "      <td>0.933333</td>\n",
              "      <td>0.694</td>\n",
              "      <td>1.037</td>\n",
              "    </tr>\n",
              "    <tr>\n",
              "      <th>369</th>\n",
              "      <td>1</td>\n",
              "      <td>1</td>\n",
              "      <td>0</td>\n",
              "      <td>0.86</td>\n",
              "      <td>0.16</td>\n",
              "      <td>1.0</td>\n",
              "      <td>0.866667</td>\n",
              "      <td>0.675</td>\n",
              "      <td>1.040</td>\n",
              "    </tr>\n",
              "    <tr>\n",
              "      <th>370</th>\n",
              "      <td>0</td>\n",
              "      <td>0</td>\n",
              "      <td>0</td>\n",
              "      <td>0.61</td>\n",
              "      <td>0.13</td>\n",
              "      <td>2.0</td>\n",
              "      <td>1.000000</td>\n",
              "      <td>0.801</td>\n",
              "      <td>1.331</td>\n",
              "    </tr>\n",
              "    <tr>\n",
              "      <th>371</th>\n",
              "      <td>0</td>\n",
              "      <td>0</td>\n",
              "      <td>0</td>\n",
              "      <td>0.63</td>\n",
              "      <td>0.13</td>\n",
              "      <td>2.0</td>\n",
              "      <td>1.000000</td>\n",
              "      <td>0.796</td>\n",
              "      <td>1.323</td>\n",
              "    </tr>\n",
              "    <tr>\n",
              "      <th>372</th>\n",
              "      <td>0</td>\n",
              "      <td>0</td>\n",
              "      <td>0</td>\n",
              "      <td>0.65</td>\n",
              "      <td>0.13</td>\n",
              "      <td>2.0</td>\n",
              "      <td>1.000000</td>\n",
              "      <td>0.801</td>\n",
              "      <td>1.317</td>\n",
              "    </tr>\n",
              "  </tbody>\n",
              "</table>\n",
              "<p>373 rows × 9 columns</p>\n",
              "</div>"
            ],
            "text/plain": [
              "     Group  Gender  Hand   Age  EDUC  SES      MMSE   nWBV    ASF\n",
              "0        0       1     0  0.87  0.14  2.0  0.900000  0.696  0.883\n",
              "1        0       1     0  0.88  0.14  2.0  1.000000  0.681  0.876\n",
              "2        1       1     0  0.75  0.12  2.0  0.766667  0.736  1.046\n",
              "3        1       1     0  0.76  0.12  2.0  0.933333  0.713  1.010\n",
              "4        1       1     0  0.80  0.12  2.0  0.733333  0.701  1.034\n",
              "..     ...     ...   ...   ...   ...  ...       ...    ...    ...\n",
              "368      1       1     0  0.82  0.16  1.0  0.933333  0.694  1.037\n",
              "369      1       1     0  0.86  0.16  1.0  0.866667  0.675  1.040\n",
              "370      0       0     0  0.61  0.13  2.0  1.000000  0.801  1.331\n",
              "371      0       0     0  0.63  0.13  2.0  1.000000  0.796  1.323\n",
              "372      0       0     0  0.65  0.13  2.0  1.000000  0.801  1.317\n",
              "\n",
              "[373 rows x 9 columns]"
            ]
          },
          "execution_count": 54,
          "metadata": {},
          "output_type": "execute_result"
        }
      ],
      "source": [
        "df"
      ]
    },
    {
      "cell_type": "markdown",
      "metadata": {
        "id": "BNBaGg4kDAxM"
      },
      "source": [
        "# ML Models"
      ]
    },
    {
      "cell_type": "markdown",
      "metadata": {
        "id": "UGiE4B7ADAxM"
      },
      "source": [
        "## Train Test Split"
      ]
    },
    {
      "cell_type": "code",
      "execution_count": 55,
      "metadata": {
        "colab": {
          "base_uri": "https://localhost:8080/",
          "height": 423
        },
        "id": "ehoh25x-DAxM",
        "outputId": "de2baf25-ebf7-414e-db20-8c91cce05084"
      },
      "outputs": [
        {
          "data": {
            "text/html": [
              "<div>\n",
              "<style scoped>\n",
              "    .dataframe tbody tr th:only-of-type {\n",
              "        vertical-align: middle;\n",
              "    }\n",
              "\n",
              "    .dataframe tbody tr th {\n",
              "        vertical-align: top;\n",
              "    }\n",
              "\n",
              "    .dataframe thead th {\n",
              "        text-align: right;\n",
              "    }\n",
              "</style>\n",
              "<table border=\"1\" class=\"dataframe\">\n",
              "  <thead>\n",
              "    <tr style=\"text-align: right;\">\n",
              "      <th></th>\n",
              "      <th>Gender</th>\n",
              "      <th>Hand</th>\n",
              "      <th>Age</th>\n",
              "      <th>EDUC</th>\n",
              "      <th>SES</th>\n",
              "      <th>MMSE</th>\n",
              "      <th>nWBV</th>\n",
              "      <th>ASF</th>\n",
              "    </tr>\n",
              "  </thead>\n",
              "  <tbody>\n",
              "    <tr>\n",
              "      <th>0</th>\n",
              "      <td>1</td>\n",
              "      <td>0</td>\n",
              "      <td>0.87</td>\n",
              "      <td>0.14</td>\n",
              "      <td>2.0</td>\n",
              "      <td>0.900000</td>\n",
              "      <td>0.696</td>\n",
              "      <td>0.883</td>\n",
              "    </tr>\n",
              "    <tr>\n",
              "      <th>1</th>\n",
              "      <td>1</td>\n",
              "      <td>0</td>\n",
              "      <td>0.88</td>\n",
              "      <td>0.14</td>\n",
              "      <td>2.0</td>\n",
              "      <td>1.000000</td>\n",
              "      <td>0.681</td>\n",
              "      <td>0.876</td>\n",
              "    </tr>\n",
              "    <tr>\n",
              "      <th>2</th>\n",
              "      <td>1</td>\n",
              "      <td>0</td>\n",
              "      <td>0.75</td>\n",
              "      <td>0.12</td>\n",
              "      <td>2.0</td>\n",
              "      <td>0.766667</td>\n",
              "      <td>0.736</td>\n",
              "      <td>1.046</td>\n",
              "    </tr>\n",
              "    <tr>\n",
              "      <th>3</th>\n",
              "      <td>1</td>\n",
              "      <td>0</td>\n",
              "      <td>0.76</td>\n",
              "      <td>0.12</td>\n",
              "      <td>2.0</td>\n",
              "      <td>0.933333</td>\n",
              "      <td>0.713</td>\n",
              "      <td>1.010</td>\n",
              "    </tr>\n",
              "    <tr>\n",
              "      <th>4</th>\n",
              "      <td>1</td>\n",
              "      <td>0</td>\n",
              "      <td>0.80</td>\n",
              "      <td>0.12</td>\n",
              "      <td>2.0</td>\n",
              "      <td>0.733333</td>\n",
              "      <td>0.701</td>\n",
              "      <td>1.034</td>\n",
              "    </tr>\n",
              "    <tr>\n",
              "      <th>...</th>\n",
              "      <td>...</td>\n",
              "      <td>...</td>\n",
              "      <td>...</td>\n",
              "      <td>...</td>\n",
              "      <td>...</td>\n",
              "      <td>...</td>\n",
              "      <td>...</td>\n",
              "      <td>...</td>\n",
              "    </tr>\n",
              "    <tr>\n",
              "      <th>368</th>\n",
              "      <td>1</td>\n",
              "      <td>0</td>\n",
              "      <td>0.82</td>\n",
              "      <td>0.16</td>\n",
              "      <td>1.0</td>\n",
              "      <td>0.933333</td>\n",
              "      <td>0.694</td>\n",
              "      <td>1.037</td>\n",
              "    </tr>\n",
              "    <tr>\n",
              "      <th>369</th>\n",
              "      <td>1</td>\n",
              "      <td>0</td>\n",
              "      <td>0.86</td>\n",
              "      <td>0.16</td>\n",
              "      <td>1.0</td>\n",
              "      <td>0.866667</td>\n",
              "      <td>0.675</td>\n",
              "      <td>1.040</td>\n",
              "    </tr>\n",
              "    <tr>\n",
              "      <th>370</th>\n",
              "      <td>0</td>\n",
              "      <td>0</td>\n",
              "      <td>0.61</td>\n",
              "      <td>0.13</td>\n",
              "      <td>2.0</td>\n",
              "      <td>1.000000</td>\n",
              "      <td>0.801</td>\n",
              "      <td>1.331</td>\n",
              "    </tr>\n",
              "    <tr>\n",
              "      <th>371</th>\n",
              "      <td>0</td>\n",
              "      <td>0</td>\n",
              "      <td>0.63</td>\n",
              "      <td>0.13</td>\n",
              "      <td>2.0</td>\n",
              "      <td>1.000000</td>\n",
              "      <td>0.796</td>\n",
              "      <td>1.323</td>\n",
              "    </tr>\n",
              "    <tr>\n",
              "      <th>372</th>\n",
              "      <td>0</td>\n",
              "      <td>0</td>\n",
              "      <td>0.65</td>\n",
              "      <td>0.13</td>\n",
              "      <td>2.0</td>\n",
              "      <td>1.000000</td>\n",
              "      <td>0.801</td>\n",
              "      <td>1.317</td>\n",
              "    </tr>\n",
              "  </tbody>\n",
              "</table>\n",
              "<p>373 rows × 8 columns</p>\n",
              "</div>"
            ],
            "text/plain": [
              "     Gender  Hand   Age  EDUC  SES      MMSE   nWBV    ASF\n",
              "0         1     0  0.87  0.14  2.0  0.900000  0.696  0.883\n",
              "1         1     0  0.88  0.14  2.0  1.000000  0.681  0.876\n",
              "2         1     0  0.75  0.12  2.0  0.766667  0.736  1.046\n",
              "3         1     0  0.76  0.12  2.0  0.933333  0.713  1.010\n",
              "4         1     0  0.80  0.12  2.0  0.733333  0.701  1.034\n",
              "..      ...   ...   ...   ...  ...       ...    ...    ...\n",
              "368       1     0  0.82  0.16  1.0  0.933333  0.694  1.037\n",
              "369       1     0  0.86  0.16  1.0  0.866667  0.675  1.040\n",
              "370       0     0  0.61  0.13  2.0  1.000000  0.801  1.331\n",
              "371       0     0  0.63  0.13  2.0  1.000000  0.796  1.323\n",
              "372       0     0  0.65  0.13  2.0  1.000000  0.801  1.317\n",
              "\n",
              "[373 rows x 8 columns]"
            ]
          },
          "execution_count": 55,
          "metadata": {},
          "output_type": "execute_result"
        }
      ],
      "source": [
        "X = df.drop('Group' , axis = 1)\n",
        "X"
      ]
    },
    {
      "cell_type": "code",
      "execution_count": 56,
      "metadata": {
        "colab": {
          "base_uri": "https://localhost:8080/"
        },
        "id": "EnGbOCucDAxN",
        "outputId": "b5a638d7-95da-460c-9d11-b56fe9905388"
      },
      "outputs": [
        {
          "data": {
            "text/plain": [
              "0      0\n",
              "1      0\n",
              "2      1\n",
              "3      1\n",
              "4      1\n",
              "      ..\n",
              "368    1\n",
              "369    1\n",
              "370    0\n",
              "371    0\n",
              "372    0\n",
              "Name: Group, Length: 373, dtype: int64"
            ]
          },
          "execution_count": 56,
          "metadata": {},
          "output_type": "execute_result"
        }
      ],
      "source": [
        "y = df['Group']\n",
        "y"
      ]
    },
    {
      "cell_type": "code",
      "execution_count": 57,
      "metadata": {
        "colab": {
          "base_uri": "https://localhost:8080/",
          "height": 423
        },
        "id": "s9G_9FliDAxN",
        "outputId": "12b0028c-1c98-42dd-be0b-0f0d6e635a65"
      },
      "outputs": [
        {
          "data": {
            "text/html": [
              "<div>\n",
              "<style scoped>\n",
              "    .dataframe tbody tr th:only-of-type {\n",
              "        vertical-align: middle;\n",
              "    }\n",
              "\n",
              "    .dataframe tbody tr th {\n",
              "        vertical-align: top;\n",
              "    }\n",
              "\n",
              "    .dataframe thead th {\n",
              "        text-align: right;\n",
              "    }\n",
              "</style>\n",
              "<table border=\"1\" class=\"dataframe\">\n",
              "  <thead>\n",
              "    <tr style=\"text-align: right;\">\n",
              "      <th></th>\n",
              "      <th>Group</th>\n",
              "      <th>Gender</th>\n",
              "      <th>Hand</th>\n",
              "      <th>Age</th>\n",
              "      <th>EDUC</th>\n",
              "      <th>SES</th>\n",
              "      <th>MMSE</th>\n",
              "      <th>nWBV</th>\n",
              "      <th>ASF</th>\n",
              "    </tr>\n",
              "  </thead>\n",
              "  <tbody>\n",
              "    <tr>\n",
              "      <th>0</th>\n",
              "      <td>0</td>\n",
              "      <td>1</td>\n",
              "      <td>0</td>\n",
              "      <td>0.87</td>\n",
              "      <td>0.14</td>\n",
              "      <td>2.0</td>\n",
              "      <td>0.900000</td>\n",
              "      <td>0.696</td>\n",
              "      <td>0.883</td>\n",
              "    </tr>\n",
              "    <tr>\n",
              "      <th>1</th>\n",
              "      <td>0</td>\n",
              "      <td>1</td>\n",
              "      <td>0</td>\n",
              "      <td>0.88</td>\n",
              "      <td>0.14</td>\n",
              "      <td>2.0</td>\n",
              "      <td>1.000000</td>\n",
              "      <td>0.681</td>\n",
              "      <td>0.876</td>\n",
              "    </tr>\n",
              "    <tr>\n",
              "      <th>2</th>\n",
              "      <td>1</td>\n",
              "      <td>1</td>\n",
              "      <td>0</td>\n",
              "      <td>0.75</td>\n",
              "      <td>0.12</td>\n",
              "      <td>2.0</td>\n",
              "      <td>0.766667</td>\n",
              "      <td>0.736</td>\n",
              "      <td>1.046</td>\n",
              "    </tr>\n",
              "    <tr>\n",
              "      <th>3</th>\n",
              "      <td>1</td>\n",
              "      <td>1</td>\n",
              "      <td>0</td>\n",
              "      <td>0.76</td>\n",
              "      <td>0.12</td>\n",
              "      <td>2.0</td>\n",
              "      <td>0.933333</td>\n",
              "      <td>0.713</td>\n",
              "      <td>1.010</td>\n",
              "    </tr>\n",
              "    <tr>\n",
              "      <th>4</th>\n",
              "      <td>1</td>\n",
              "      <td>1</td>\n",
              "      <td>0</td>\n",
              "      <td>0.80</td>\n",
              "      <td>0.12</td>\n",
              "      <td>2.0</td>\n",
              "      <td>0.733333</td>\n",
              "      <td>0.701</td>\n",
              "      <td>1.034</td>\n",
              "    </tr>\n",
              "    <tr>\n",
              "      <th>...</th>\n",
              "      <td>...</td>\n",
              "      <td>...</td>\n",
              "      <td>...</td>\n",
              "      <td>...</td>\n",
              "      <td>...</td>\n",
              "      <td>...</td>\n",
              "      <td>...</td>\n",
              "      <td>...</td>\n",
              "      <td>...</td>\n",
              "    </tr>\n",
              "    <tr>\n",
              "      <th>368</th>\n",
              "      <td>1</td>\n",
              "      <td>1</td>\n",
              "      <td>0</td>\n",
              "      <td>0.82</td>\n",
              "      <td>0.16</td>\n",
              "      <td>1.0</td>\n",
              "      <td>0.933333</td>\n",
              "      <td>0.694</td>\n",
              "      <td>1.037</td>\n",
              "    </tr>\n",
              "    <tr>\n",
              "      <th>369</th>\n",
              "      <td>1</td>\n",
              "      <td>1</td>\n",
              "      <td>0</td>\n",
              "      <td>0.86</td>\n",
              "      <td>0.16</td>\n",
              "      <td>1.0</td>\n",
              "      <td>0.866667</td>\n",
              "      <td>0.675</td>\n",
              "      <td>1.040</td>\n",
              "    </tr>\n",
              "    <tr>\n",
              "      <th>370</th>\n",
              "      <td>0</td>\n",
              "      <td>0</td>\n",
              "      <td>0</td>\n",
              "      <td>0.61</td>\n",
              "      <td>0.13</td>\n",
              "      <td>2.0</td>\n",
              "      <td>1.000000</td>\n",
              "      <td>0.801</td>\n",
              "      <td>1.331</td>\n",
              "    </tr>\n",
              "    <tr>\n",
              "      <th>371</th>\n",
              "      <td>0</td>\n",
              "      <td>0</td>\n",
              "      <td>0</td>\n",
              "      <td>0.63</td>\n",
              "      <td>0.13</td>\n",
              "      <td>2.0</td>\n",
              "      <td>1.000000</td>\n",
              "      <td>0.796</td>\n",
              "      <td>1.323</td>\n",
              "    </tr>\n",
              "    <tr>\n",
              "      <th>372</th>\n",
              "      <td>0</td>\n",
              "      <td>0</td>\n",
              "      <td>0</td>\n",
              "      <td>0.65</td>\n",
              "      <td>0.13</td>\n",
              "      <td>2.0</td>\n",
              "      <td>1.000000</td>\n",
              "      <td>0.801</td>\n",
              "      <td>1.317</td>\n",
              "    </tr>\n",
              "  </tbody>\n",
              "</table>\n",
              "<p>373 rows × 9 columns</p>\n",
              "</div>"
            ],
            "text/plain": [
              "     Group  Gender  Hand   Age  EDUC  SES      MMSE   nWBV    ASF\n",
              "0        0       1     0  0.87  0.14  2.0  0.900000  0.696  0.883\n",
              "1        0       1     0  0.88  0.14  2.0  1.000000  0.681  0.876\n",
              "2        1       1     0  0.75  0.12  2.0  0.766667  0.736  1.046\n",
              "3        1       1     0  0.76  0.12  2.0  0.933333  0.713  1.010\n",
              "4        1       1     0  0.80  0.12  2.0  0.733333  0.701  1.034\n",
              "..     ...     ...   ...   ...   ...  ...       ...    ...    ...\n",
              "368      1       1     0  0.82  0.16  1.0  0.933333  0.694  1.037\n",
              "369      1       1     0  0.86  0.16  1.0  0.866667  0.675  1.040\n",
              "370      0       0     0  0.61  0.13  2.0  1.000000  0.801  1.331\n",
              "371      0       0     0  0.63  0.13  2.0  1.000000  0.796  1.323\n",
              "372      0       0     0  0.65  0.13  2.0  1.000000  0.801  1.317\n",
              "\n",
              "[373 rows x 9 columns]"
            ]
          },
          "execution_count": 57,
          "metadata": {},
          "output_type": "execute_result"
        }
      ],
      "source": [
        "df"
      ]
    },
    {
      "cell_type": "code",
      "execution_count": 58,
      "metadata": {
        "id": "InAYmp-8DAxN"
      },
      "outputs": [],
      "source": [
        "from sklearn.model_selection import train_test_split\n",
        "X_train, X_test, y_train, y_test = train_test_split(X, y ,  test_size=0.3, train_size=0.7, random_state=None, shuffle=True, stratify=y)"
      ]
    },
    {
      "cell_type": "code",
      "execution_count": 59,
      "metadata": {
        "colab": {
          "base_uri": "https://localhost:8080/"
        },
        "id": "DI6mqnzgDAxN",
        "outputId": "2714e9a5-fdae-407c-8f4a-0de17fa91773"
      },
      "outputs": [
        {
          "name": "stdout",
          "output_type": "stream",
          "text": [
            "(261, 8) (112, 8) (261,) (112,)\n"
          ]
        }
      ],
      "source": [
        "print(X_train.shape , X_test.shape , y_train.shape , y_test.shape)"
      ]
    },
    {
      "cell_type": "markdown",
      "metadata": {
        "id": "EEhPhp22DAxN"
      },
      "source": [
        "## Decision Tree"
      ]
    },
    {
      "cell_type": "code",
      "execution_count": 60,
      "metadata": {
        "id": "rp7vci_ADAxN"
      },
      "outputs": [],
      "source": [
        "from sklearn.tree import DecisionTreeClassifier\n",
        "from sklearn.ensemble import RandomForestClassifier"
      ]
    },
    {
      "cell_type": "code",
      "execution_count": 61,
      "metadata": {
        "id": "W9_wJPBWDAxN"
      },
      "outputs": [],
      "source": [
        "tree = DecisionTreeClassifier(random_state = 5 , criterion = \"gini\" , max_depth = 4 )"
      ]
    },
    {
      "cell_type": "code",
      "execution_count": 62,
      "metadata": {
        "id": "7TU1RlBzDAxN"
      },
      "outputs": [],
      "source": [
        "tree = tree.fit(X_train , y_train )"
      ]
    },
    {
      "cell_type": "code",
      "execution_count": 63,
      "metadata": {
        "id": "NKfIUhaWDAxN"
      },
      "outputs": [],
      "source": [
        "from sklearn import metrics\n",
        "\n",
        "def measure_performance(X_test,y_test, clf_mdl, show_accuracy=True , show_confusion_matrix = True , show_precision = True):\n",
        "    y_pred=clf_mdl.predict(X_test)\n",
        "    if show_accuracy:\n",
        "        print (\"Accuracy: {0:.3f}\".format(metrics.accuracy_score(y_test,y_pred)),\"\\n\")\n",
        "    \n",
        "         \n",
        "    if show_precision : \n",
        "        print(\"Precision :  {0:.3f}\".format(metrics.precision_score(y_test,y_pred)),\"\\n\")\n",
        "        \n",
        "        \n",
        "    if show_confusion_matrix:\n",
        "        print (\"Confusion matrix\\n\\n\")\n",
        "        metrics.confusion_matrix(y_test,y_pred)\n",
        "        print(pd.crosstab(y_test, y_pred, rownames = ['Actual'], colnames =['Predicted'], margins = True))\n",
        "        \n",
        "        \n"
      ]
    },
    {
      "cell_type": "code",
      "execution_count": 64,
      "metadata": {
        "colab": {
          "base_uri": "https://localhost:8080/"
        },
        "id": "3WIIwq_YDAxN",
        "outputId": "e80d1b50-c157-4bda-eccb-7d50f437a8ea"
      },
      "outputs": [
        {
          "name": "stdout",
          "output_type": "stream",
          "text": [
            "Accuracy: 0.741 \n",
            "\n",
            "Precision :  0.795 \n",
            "\n",
            "Confusion matrix\n",
            "\n",
            "\n",
            "Predicted   0   1  All\n",
            "Actual                \n",
            "0          48   9   57\n",
            "1          20  35   55\n",
            "All        68  44  112\n"
          ]
        }
      ],
      "source": [
        "measure_performance(X_test , y_test , tree)"
      ]
    },
    {
      "cell_type": "markdown",
      "metadata": {
        "id": "04UP82igDAxO"
      },
      "source": [
        "## Random Forest "
      ]
    },
    {
      "cell_type": "code",
      "execution_count": 65,
      "metadata": {
        "id": "IrsPcas9DAxO"
      },
      "outputs": [],
      "source": [
        "random_forest = RandomForestClassifier( criterion = \"gini\" , n_estimators = 15 )  "
      ]
    },
    {
      "cell_type": "code",
      "execution_count": 66,
      "metadata": {
        "id": "UTR3QWTIDAxO"
      },
      "outputs": [],
      "source": [
        "random_forest = random_forest.fit(X_train , y_train)"
      ]
    },
    {
      "cell_type": "code",
      "execution_count": 67,
      "metadata": {
        "colab": {
          "base_uri": "https://localhost:8080/"
        },
        "id": "n3pKlRpQDAxO",
        "outputId": "d3b0657d-fb9f-4afa-d4ac-59b6f7754600"
      },
      "outputs": [
        {
          "name": "stdout",
          "output_type": "stream",
          "text": [
            "Accuracy: 0.795 \n",
            "\n",
            "Precision :  0.820 \n",
            "\n",
            "Confusion matrix\n",
            "\n",
            "\n",
            "Predicted   0   1  All\n",
            "Actual                \n",
            "0          48   9   57\n",
            "1          14  41   55\n",
            "All        62  50  112\n"
          ]
        }
      ],
      "source": [
        "measure_performance(X_test , y_test , random_forest)"
      ]
    },
    {
      "cell_type": "code",
      "execution_count": 68,
      "metadata": {
        "id": "pNfDFW6nDAxO"
      },
      "outputs": [],
      "source": [
        "import pickle\n",
        "\n",
        "with open('models/random_forest.pkl', 'wb') as f:\n",
        "    pickle.dump(random_forest, f, protocol=pickle.HIGHEST_PROTOCOL)"
      ]
    },
    {
      "cell_type": "markdown",
      "metadata": {
        "id": "QDLmuYa9DAxO"
      },
      "source": [
        "## Naive Bayes "
      ]
    },
    {
      "cell_type": "code",
      "execution_count": 69,
      "metadata": {
        "id": "Gy6Aa2YPDAxO"
      },
      "outputs": [],
      "source": [
        "from sklearn.naive_bayes import GaussianNB\n"
      ]
    },
    {
      "cell_type": "code",
      "execution_count": 70,
      "metadata": {
        "id": "FetMr4URDAxO"
      },
      "outputs": [],
      "source": [
        "guass_model = GaussianNB()"
      ]
    },
    {
      "cell_type": "code",
      "execution_count": 71,
      "metadata": {
        "colab": {
          "base_uri": "https://localhost:8080/"
        },
        "id": "vQW8ZGiuDAxO",
        "outputId": "21448000-af71-46cd-f5b1-5da3d3efa735"
      },
      "outputs": [
        {
          "data": {
            "text/plain": [
              "GaussianNB()"
            ]
          },
          "execution_count": 71,
          "metadata": {},
          "output_type": "execute_result"
        }
      ],
      "source": [
        "guass_model.fit(X_train,y_train)"
      ]
    },
    {
      "cell_type": "code",
      "execution_count": 72,
      "metadata": {
        "colab": {
          "base_uri": "https://localhost:8080/"
        },
        "id": "Jd0BUnKnDAxO",
        "outputId": "a3f4f9a4-20d0-4631-ceb4-54681142313d"
      },
      "outputs": [
        {
          "name": "stdout",
          "output_type": "stream",
          "text": [
            "Accuracy: 0.750 \n",
            "\n",
            "Precision :  0.814 \n",
            "\n",
            "Confusion matrix\n",
            "\n",
            "\n",
            "Predicted   0   1  All\n",
            "Actual                \n",
            "0          49   8   57\n",
            "1          20  35   55\n",
            "All        69  43  112\n"
          ]
        }
      ],
      "source": [
        "measure_performance(X_test , y_test , guass_model)"
      ]
    },
    {
      "cell_type": "code",
      "execution_count": null,
      "metadata": {
        "id": "FUeaSbR8DAxO"
      },
      "outputs": [],
      "source": []
    },
    {
      "cell_type": "markdown",
      "metadata": {
        "id": "08hi1wl0DAxO"
      },
      "source": [
        "## Support Vector Machines"
      ]
    },
    {
      "cell_type": "code",
      "execution_count": 73,
      "metadata": {
        "id": "kFJwaO5MDAxP"
      },
      "outputs": [],
      "source": [
        "from sklearn import svm"
      ]
    },
    {
      "cell_type": "code",
      "execution_count": 74,
      "metadata": {
        "id": "3e72_1JODAxP"
      },
      "outputs": [],
      "source": [
        "svm_model = svm.SVC(kernel = 'rbf')"
      ]
    },
    {
      "cell_type": "code",
      "execution_count": 75,
      "metadata": {
        "colab": {
          "base_uri": "https://localhost:8080/"
        },
        "id": "iNqffUyVDAxP",
        "outputId": "995b3091-bc35-4aca-e297-ed5ffd91643f"
      },
      "outputs": [
        {
          "data": {
            "text/plain": [
              "SVC()"
            ]
          },
          "execution_count": 75,
          "metadata": {},
          "output_type": "execute_result"
        }
      ],
      "source": [
        "svm_model.fit(X_train , y_train)"
      ]
    },
    {
      "cell_type": "code",
      "execution_count": 76,
      "metadata": {
        "colab": {
          "base_uri": "https://localhost:8080/"
        },
        "id": "8VkxIvgbDAxP",
        "outputId": "ad02bd89-1fc0-426a-8721-4e41292514c3"
      },
      "outputs": [
        {
          "name": "stdout",
          "output_type": "stream",
          "text": [
            "Accuracy: 0.643 \n",
            "\n",
            "Precision :  0.660 \n",
            "\n",
            "Confusion matrix\n",
            "\n",
            "\n",
            "Predicted   0   1  All\n",
            "Actual                \n",
            "0          41  16   57\n",
            "1          24  31   55\n",
            "All        65  47  112\n"
          ]
        }
      ],
      "source": [
        "measure_performance(X_test , y_test , svm_model)"
      ]
    },
    {
      "cell_type": "code",
      "execution_count": null,
      "metadata": {
        "id": "3HYAiS50DAxP"
      },
      "outputs": [],
      "source": []
    },
    {
      "cell_type": "markdown",
      "metadata": {
        "id": "6mZApQpCDAxP"
      },
      "source": [
        "## Neural Network "
      ]
    },
    {
      "cell_type": "markdown",
      "metadata": {
        "id": "Cc8dPj9MDAxQ"
      },
      "source": [
        "### Keras Neural Net "
      ]
    },
    {
      "cell_type": "code",
      "execution_count": 77,
      "metadata": {
        "id": "yCuRMnemDAxQ"
      },
      "outputs": [],
      "source": [
        "from keras.models import Sequential\n",
        "from keras.layers import Dense,Dropout\n",
        "from keras.callbacks import EarlyStopping"
      ]
    },
    {
      "cell_type": "code",
      "execution_count": 78,
      "metadata": {
        "id": "IRP3Fwc_DAxQ"
      },
      "outputs": [],
      "source": [
        "\n",
        "model=Sequential()\n",
        "\n",
        "model.add(Dense(units=32,kernel_initializer='normal',activation='relu',input_dim=X_train.shape[1]))\n",
        "\n",
        "model.add(Dense(units=64,kernel_initializer='normal',activation='relu'))\n",
        "\n",
        "model.add(Dense(units=128,kernel_initializer='normal',activation='relu'))\n",
        "\n",
        "model.add(Dense(units=1,kernel_initializer='normal',activation='sigmoid'))"
      ]
    },
    {
      "cell_type": "code",
      "execution_count": 79,
      "metadata": {
        "colab": {
          "base_uri": "https://localhost:8080/"
        },
        "id": "trcGyCYFDAxQ",
        "outputId": "24f90c61-26bc-4635-eb08-5e950637a318"
      },
      "outputs": [
        {
          "name": "stdout",
          "output_type": "stream",
          "text": [
            "Model: \"sequential\"\n",
            "_________________________________________________________________\n",
            " Layer (type)                Output Shape              Param #   \n",
            "=================================================================\n",
            " dense (Dense)               (None, 32)                288       \n",
            "                                                                 \n",
            " dense_1 (Dense)             (None, 64)                2112      \n",
            "                                                                 \n",
            " dense_2 (Dense)             (None, 128)               8320      \n",
            "                                                                 \n",
            " dense_3 (Dense)             (None, 1)                 129       \n",
            "                                                                 \n",
            "=================================================================\n",
            "Total params: 10,849\n",
            "Trainable params: 10,849\n",
            "Non-trainable params: 0\n",
            "_________________________________________________________________\n"
          ]
        }
      ],
      "source": [
        "model.summary()"
      ]
    },
    {
      "cell_type": "code",
      "execution_count": 80,
      "metadata": {
        "id": "I3pnP1ulDAxQ"
      },
      "outputs": [],
      "source": [
        "model.compile(optimizer='adam',loss='binary_crossentropy',metrics=['accuracy'])"
      ]
    },
    {
      "cell_type": "code",
      "execution_count": 81,
      "metadata": {
        "colab": {
          "base_uri": "https://localhost:8080/"
        },
        "id": "_uP16uE-DAxQ",
        "outputId": "8557bfcf-efdf-4ca0-b386-3479d636d13a"
      },
      "outputs": [
        {
          "name": "stdout",
          "output_type": "stream",
          "text": [
            "Epoch 1/500\n",
            "17/17 [==============================] - 2s 31ms/step - loss: 0.6935 - accuracy: 0.4866 - val_loss: 0.6925 - val_accuracy: 0.4911\n",
            "Epoch 2/500\n",
            "17/17 [==============================] - 0s 3ms/step - loss: 0.6923 - accuracy: 0.5900 - val_loss: 0.6914 - val_accuracy: 0.5982\n",
            "Epoch 3/500\n",
            "17/17 [==============================] - 0s 3ms/step - loss: 0.6915 - accuracy: 0.4981 - val_loss: 0.6894 - val_accuracy: 0.5893\n",
            "Epoch 4/500\n",
            "17/17 [==============================] - 0s 3ms/step - loss: 0.6877 - accuracy: 0.6360 - val_loss: 0.6836 - val_accuracy: 0.5982\n",
            "Epoch 5/500\n",
            "17/17 [==============================] - 0s 3ms/step - loss: 0.6800 - accuracy: 0.6360 - val_loss: 0.6712 - val_accuracy: 0.5982\n",
            "Epoch 6/500\n",
            "17/17 [==============================] - 0s 3ms/step - loss: 0.6693 - accuracy: 0.6245 - val_loss: 0.6591 - val_accuracy: 0.6518\n",
            "Epoch 7/500\n",
            "17/17 [==============================] - 0s 3ms/step - loss: 0.6612 - accuracy: 0.6322 - val_loss: 0.6497 - val_accuracy: 0.6429\n",
            "Epoch 8/500\n",
            "17/17 [==============================] - 0s 3ms/step - loss: 0.6585 - accuracy: 0.6092 - val_loss: 0.6338 - val_accuracy: 0.6518\n",
            "Epoch 9/500\n",
            "17/17 [==============================] - 0s 3ms/step - loss: 0.6352 - accuracy: 0.6360 - val_loss: 0.6365 - val_accuracy: 0.6518\n",
            "Epoch 10/500\n",
            "17/17 [==============================] - 0s 4ms/step - loss: 0.6434 - accuracy: 0.6245 - val_loss: 0.6618 - val_accuracy: 0.6161\n",
            "Epoch 11/500\n",
            "17/17 [==============================] - 0s 3ms/step - loss: 0.6454 - accuracy: 0.6398 - val_loss: 0.6557 - val_accuracy: 0.6250\n",
            "Epoch 12/500\n",
            "17/17 [==============================] - 0s 3ms/step - loss: 0.6439 - accuracy: 0.6207 - val_loss: 0.6253 - val_accuracy: 0.6518\n",
            "Epoch 13/500\n",
            "17/17 [==============================] - 0s 3ms/step - loss: 0.6243 - accuracy: 0.6475 - val_loss: 0.6157 - val_accuracy: 0.6429\n",
            "Epoch 14/500\n",
            "17/17 [==============================] - 0s 3ms/step - loss: 0.6225 - accuracy: 0.6437 - val_loss: 0.6169 - val_accuracy: 0.5982\n",
            "Epoch 15/500\n",
            "17/17 [==============================] - 0s 3ms/step - loss: 0.6065 - accuracy: 0.6667 - val_loss: 0.6165 - val_accuracy: 0.6786\n",
            "Epoch 16/500\n",
            "17/17 [==============================] - 0s 2ms/step - loss: 0.6054 - accuracy: 0.6552 - val_loss: 0.5968 - val_accuracy: 0.6607\n",
            "Epoch 17/500\n",
            "17/17 [==============================] - 0s 3ms/step - loss: 0.5928 - accuracy: 0.6743 - val_loss: 0.5906 - val_accuracy: 0.6607\n",
            "Epoch 18/500\n",
            "17/17 [==============================] - 0s 3ms/step - loss: 0.5835 - accuracy: 0.6705 - val_loss: 0.5847 - val_accuracy: 0.6875\n",
            "Epoch 19/500\n",
            "17/17 [==============================] - 0s 3ms/step - loss: 0.5697 - accuracy: 0.7050 - val_loss: 0.5851 - val_accuracy: 0.6964\n",
            "Epoch 20/500\n",
            "17/17 [==============================] - 0s 3ms/step - loss: 0.5689 - accuracy: 0.7165 - val_loss: 0.5838 - val_accuracy: 0.6696\n",
            "Epoch 21/500\n",
            "17/17 [==============================] - 0s 2ms/step - loss: 0.5506 - accuracy: 0.7088 - val_loss: 0.5764 - val_accuracy: 0.6786\n",
            "Epoch 22/500\n",
            "17/17 [==============================] - 0s 3ms/step - loss: 0.5586 - accuracy: 0.7011 - val_loss: 0.6077 - val_accuracy: 0.6607\n",
            "Epoch 23/500\n",
            "17/17 [==============================] - 0s 4ms/step - loss: 0.5456 - accuracy: 0.7318 - val_loss: 0.5470 - val_accuracy: 0.6964\n",
            "Epoch 24/500\n",
            "17/17 [==============================] - 0s 2ms/step - loss: 0.5283 - accuracy: 0.7088 - val_loss: 0.5395 - val_accuracy: 0.6964\n",
            "Epoch 25/500\n",
            "17/17 [==============================] - 0s 3ms/step - loss: 0.5014 - accuracy: 0.7203 - val_loss: 0.5428 - val_accuracy: 0.6786\n",
            "Epoch 26/500\n",
            "17/17 [==============================] - 0s 3ms/step - loss: 0.4885 - accuracy: 0.7586 - val_loss: 0.5533 - val_accuracy: 0.6786\n",
            "Epoch 27/500\n",
            "17/17 [==============================] - 0s 3ms/step - loss: 0.4951 - accuracy: 0.7318 - val_loss: 0.5150 - val_accuracy: 0.7411\n",
            "Epoch 28/500\n",
            "17/17 [==============================] - 0s 4ms/step - loss: 0.4711 - accuracy: 0.7586 - val_loss: 0.5111 - val_accuracy: 0.7321\n",
            "Epoch 29/500\n",
            "17/17 [==============================] - 0s 3ms/step - loss: 0.4725 - accuracy: 0.7625 - val_loss: 0.5216 - val_accuracy: 0.6964\n",
            "Epoch 30/500\n",
            "17/17 [==============================] - 0s 3ms/step - loss: 0.5011 - accuracy: 0.7241 - val_loss: 0.5125 - val_accuracy: 0.7054\n",
            "Epoch 31/500\n",
            "17/17 [==============================] - 0s 3ms/step - loss: 0.4901 - accuracy: 0.7510 - val_loss: 0.5262 - val_accuracy: 0.7054\n",
            "Epoch 32/500\n",
            "17/17 [==============================] - 0s 2ms/step - loss: 0.4756 - accuracy: 0.7548 - val_loss: 0.5146 - val_accuracy: 0.7054\n",
            "Epoch 33/500\n",
            "17/17 [==============================] - 0s 3ms/step - loss: 0.4563 - accuracy: 0.7854 - val_loss: 0.5074 - val_accuracy: 0.7500\n",
            "Epoch 34/500\n",
            "17/17 [==============================] - 0s 3ms/step - loss: 0.4573 - accuracy: 0.7816 - val_loss: 0.5349 - val_accuracy: 0.7232\n",
            "Epoch 35/500\n",
            "17/17 [==============================] - 0s 3ms/step - loss: 0.4664 - accuracy: 0.7586 - val_loss: 0.5284 - val_accuracy: 0.7321\n",
            "Epoch 36/500\n",
            "17/17 [==============================] - 0s 3ms/step - loss: 0.4574 - accuracy: 0.7778 - val_loss: 0.5483 - val_accuracy: 0.7232\n",
            "Epoch 37/500\n",
            "17/17 [==============================] - 0s 3ms/step - loss: 0.4636 - accuracy: 0.7663 - val_loss: 0.5182 - val_accuracy: 0.7232\n",
            "Epoch 38/500\n",
            "17/17 [==============================] - 0s 3ms/step - loss: 0.4738 - accuracy: 0.7586 - val_loss: 0.5073 - val_accuracy: 0.7321\n",
            "Epoch 39/500\n",
            "17/17 [==============================] - 0s 2ms/step - loss: 0.4800 - accuracy: 0.7433 - val_loss: 0.5339 - val_accuracy: 0.7321\n",
            "Epoch 40/500\n",
            "17/17 [==============================] - 0s 3ms/step - loss: 0.5147 - accuracy: 0.7280 - val_loss: 0.5311 - val_accuracy: 0.7321\n",
            "Epoch 41/500\n",
            "17/17 [==============================] - 0s 3ms/step - loss: 0.4493 - accuracy: 0.7778 - val_loss: 0.5083 - val_accuracy: 0.7232\n",
            "Epoch 42/500\n",
            "17/17 [==============================] - 0s 3ms/step - loss: 0.4878 - accuracy: 0.7395 - val_loss: 0.5365 - val_accuracy: 0.6875\n",
            "Epoch 43/500\n",
            "17/17 [==============================] - 0s 2ms/step - loss: 0.4561 - accuracy: 0.7816 - val_loss: 0.5056 - val_accuracy: 0.7500\n",
            "Epoch 44/500\n",
            "17/17 [==============================] - 0s 3ms/step - loss: 0.4805 - accuracy: 0.7510 - val_loss: 0.5362 - val_accuracy: 0.6875\n",
            "Epoch 45/500\n",
            "17/17 [==============================] - 0s 6ms/step - loss: 0.4600 - accuracy: 0.7625 - val_loss: 0.5041 - val_accuracy: 0.7589\n",
            "Epoch 46/500\n",
            "17/17 [==============================] - 0s 3ms/step - loss: 0.4404 - accuracy: 0.7854 - val_loss: 0.5082 - val_accuracy: 0.7321\n",
            "Epoch 47/500\n",
            "17/17 [==============================] - 0s 3ms/step - loss: 0.4424 - accuracy: 0.7701 - val_loss: 0.5010 - val_accuracy: 0.7589\n",
            "Epoch 48/500\n",
            "17/17 [==============================] - 0s 3ms/step - loss: 0.4672 - accuracy: 0.7739 - val_loss: 0.5452 - val_accuracy: 0.6964\n",
            "Epoch 49/500\n",
            "17/17 [==============================] - 0s 3ms/step - loss: 0.4780 - accuracy: 0.7663 - val_loss: 0.5391 - val_accuracy: 0.7143\n",
            "Epoch 50/500\n",
            "17/17 [==============================] - 0s 3ms/step - loss: 0.4488 - accuracy: 0.7701 - val_loss: 0.5300 - val_accuracy: 0.7143\n",
            "Epoch 51/500\n",
            "17/17 [==============================] - 0s 3ms/step - loss: 0.4409 - accuracy: 0.7893 - val_loss: 0.5042 - val_accuracy: 0.7411\n",
            "Epoch 52/500\n",
            "17/17 [==============================] - 0s 2ms/step - loss: 0.4381 - accuracy: 0.7969 - val_loss: 0.5048 - val_accuracy: 0.7411\n",
            "Epoch 53/500\n",
            "17/17 [==============================] - 0s 3ms/step - loss: 0.4643 - accuracy: 0.7510 - val_loss: 0.5262 - val_accuracy: 0.7054\n",
            "Epoch 54/500\n",
            "17/17 [==============================] - 0s 3ms/step - loss: 0.4583 - accuracy: 0.7663 - val_loss: 0.5186 - val_accuracy: 0.7054\n",
            "Epoch 55/500\n",
            "17/17 [==============================] - 0s 3ms/step - loss: 0.4534 - accuracy: 0.7816 - val_loss: 0.5058 - val_accuracy: 0.7500\n",
            "Epoch 56/500\n",
            "17/17 [==============================] - 0s 3ms/step - loss: 0.4385 - accuracy: 0.8123 - val_loss: 0.5074 - val_accuracy: 0.7679\n",
            "Epoch 57/500\n",
            "17/17 [==============================] - 0s 3ms/step - loss: 0.4446 - accuracy: 0.8008 - val_loss: 0.5051 - val_accuracy: 0.7500\n",
            "Epoch 00057: early stopping\n"
          ]
        }
      ],
      "source": [
        "es = EarlyStopping(monitor='val_loss', mode='min', verbose=1 , patience = 10)\n",
        "history=model.fit(X_train,y_train,batch_size=16,epochs=500 , callbacks = [es] , validation_data = (X_test , y_test))"
      ]
    },
    {
      "cell_type": "code",
      "execution_count": 82,
      "metadata": {
        "colab": {
          "base_uri": "https://localhost:8080/",
          "height": 295
        },
        "id": "4RFxcH8CDAxQ",
        "outputId": "102cd745-eca8-4b6c-b633-d60437930bc0"
      },
      "outputs": [
        {
          "data": {
            "image/png": "[encoded data removed]",
            "text/plain": [
              "<Figure size 432x288 with 1 Axes>"
            ]
          },
          "metadata": {
            "needs_background": "light"
          },
          "output_type": "display_data"
        }
      ],
      "source": [
        "plt.plot(history.history['accuracy'])\n",
        "plt.plot(history.history['val_accuracy'])\n",
        "plt.title('Model Accuracy')\n",
        "plt.xlabel('Epochs')\n",
        "plt.ylabel('Accuracy')\n",
        "plt.legend(['train', 'test'], loc='upper left')\n",
        "plt.show()"
      ]
    },
    {
      "cell_type": "code",
      "execution_count": 83,
      "metadata": {
        "colab": {
          "base_uri": "https://localhost:8080/",
          "height": 295
        },
        "id": "DFk2odmlDAxQ",
        "outputId": "e497e3ee-91d9-4867-ddda-01d5fd0722c0"
      },
      "outputs": [
        {
          "data": {
            "image/png": "[encoded data removed]",
            "text/plain": [
              "<Figure size 432x288 with 1 Axes>"
            ]
          },
          "metadata": {
            "needs_background": "light"
          },
          "output_type": "display_data"
        }
      ],
      "source": [
        "plt.plot(history.history['loss'])\n",
        "plt.plot(history.history['val_loss'])\n",
        "plt.title('Model Loss')\n",
        "plt.xlabel('Epochs')\n",
        "plt.ylabel('Loss')\n",
        "plt.legend(['train', 'test'], loc='upper left')\n",
        "plt.show()"
      ]
    },
    {
      "cell_type": "code",
      "execution_count": 84,
      "metadata": {
        "id": "BFLxtrWdDAxR"
      },
      "outputs": [],
      "source": [
        "y_pred=model.predict(X_test)   \n",
        "n= 0 \n",
        "for i in y_pred :\n",
        "    if i < 0.5 : \n",
        "        y_pred[n] = 0\n",
        "        n = n + 1\n",
        "    else :\n",
        "        y_pred[n] = 1\n",
        "        n = n + 1\n",
        "        \n"
      ]
    },
    {
      "cell_type": "code",
      "execution_count": 85,
      "metadata": {
        "id": "eIfZdZEVDAxR"
      },
      "outputs": [],
      "source": [
        "y_pred = array(y_pred)"
      ]
    },
    {
      "cell_type": "code",
      "execution_count": 86,
      "metadata": {
        "colab": {
          "base_uri": "https://localhost:8080/"
        },
        "id": "wX6G9pLuDAxR",
        "outputId": "0589cbc5-ad54-47ed-b9e3-b92b25b3d7a8"
      },
      "outputs": [
        {
          "name": "stdout",
          "output_type": "stream",
          "text": [
            "Accuracy: 0.750 \n",
            "\n",
            "Precision :  0.765 \n",
            "\n",
            "Confusion matrix\n",
            "\n",
            "\n",
            "[[45 12]\n",
            " [16 39]]\n"
          ]
        }
      ],
      "source": [
        "print (\"Accuracy: {0:.3f}\".format(metrics.accuracy_score(y_test,y_pred)),\"\\n\")\n",
        "print(\"Precision :  {0:.3f}\".format(metrics.precision_score(y_test,y_pred)),\"\\n\")\n",
        "print (\"Confusion matrix\\n\\n\")\n",
        "print(metrics.confusion_matrix(y_test,y_pred))\n",
        "        \n"
      ]
    },
    {
      "cell_type": "code",
      "execution_count": null,
      "metadata": {
        "id": "99tXGoklDAxR"
      },
      "outputs": [],
      "source": []
    },
    {
      "cell_type": "markdown",
      "metadata": {
        "id": "TqnVQutODAxR"
      },
      "source": [
        "# Comparision of Models"
      ]
    },
    {
      "cell_type": "code",
      "execution_count": 87,
      "metadata": {
        "id": "0TA8EBpBDAxR"
      },
      "outputs": [],
      "source": [
        "labels = [\"Decision Tree\" , \"Random Forest\" , \"Naive Bayes\" , \"Support Vector Machine\" , \"Neural Net\"]\n",
        "Accuracy = [0.839 , 0.875 , 0.821 , 0.634 , 0.804]\n",
        "Precision = [0.863 , 0.956 , 0.927 , 0.635 , 0.851]"
      ]
    },
    {
      "cell_type": "code",
      "execution_count": 88,
      "metadata": {
        "colab": {
          "base_uri": "https://localhost:8080/",
          "height": 237
        },
        "id": "WOco7a81DAxR",
        "outputId": "1ebabc76-d753-4176-b34e-579300c4ef87"
      },
      "outputs": [
        {
          "data": {
            "text/html": [
              "<div>\n",
              "<style scoped>\n",
              "    .dataframe tbody tr th:only-of-type {\n",
              "        vertical-align: middle;\n",
              "    }\n",
              "\n",
              "    .dataframe tbody tr th {\n",
              "        vertical-align: top;\n",
              "    }\n",
              "\n",
              "    .dataframe thead th {\n",
              "        text-align: right;\n",
              "    }\n",
              "</style>\n",
              "<table border=\"1\" class=\"dataframe\">\n",
              "  <thead>\n",
              "    <tr style=\"text-align: right;\">\n",
              "      <th></th>\n",
              "      <th>Model</th>\n",
              "      <th>Accuracy</th>\n",
              "      <th>Precision</th>\n",
              "    </tr>\n",
              "  </thead>\n",
              "  <tbody>\n",
              "    <tr>\n",
              "      <th>0</th>\n",
              "      <td>Decision Tree</td>\n",
              "      <td>0.839</td>\n",
              "      <td>0.863</td>\n",
              "    </tr>\n",
              "    <tr>\n",
              "      <th>1</th>\n",
              "      <td>Random Forest</td>\n",
              "      <td>0.875</td>\n",
              "      <td>0.956</td>\n",
              "    </tr>\n",
              "    <tr>\n",
              "      <th>2</th>\n",
              "      <td>Naive Bayes</td>\n",
              "      <td>0.821</td>\n",
              "      <td>0.927</td>\n",
              "    </tr>\n",
              "    <tr>\n",
              "      <th>3</th>\n",
              "      <td>Support Vector Machine</td>\n",
              "      <td>0.634</td>\n",
              "      <td>0.635</td>\n",
              "    </tr>\n",
              "    <tr>\n",
              "      <th>4</th>\n",
              "      <td>Neural Net</td>\n",
              "      <td>0.804</td>\n",
              "      <td>0.851</td>\n",
              "    </tr>\n",
              "  </tbody>\n",
              "</table>\n",
              "</div>"
            ],
            "text/plain": [
              "                    Model  Accuracy  Precision\n",
              "0           Decision Tree     0.839      0.863\n",
              "1           Random Forest     0.875      0.956\n",
              "2             Naive Bayes     0.821      0.927\n",
              "3  Support Vector Machine     0.634      0.635\n",
              "4              Neural Net     0.804      0.851"
            ]
          },
          "execution_count": 88,
          "metadata": {},
          "output_type": "execute_result"
        }
      ],
      "source": [
        "d = {'Model': labels, 'Accuracy': Accuracy , 'Precision' : Precision}\n",
        "model_rep = pd.DataFrame(data=d)\n",
        "model_rep"
      ]
    },
    {
      "cell_type": "code",
      "execution_count": 89,
      "metadata": {
        "id": "u34d-eEhDAxR"
      },
      "outputs": [],
      "source": [
        "def plot_chart(y , para):\n",
        "    fig = plt.figure(figsize=(10, 5))\n",
        "\n",
        "    ax = fig.add_axes([0,0,1,1])\n",
        "    ax.bar(labels , y , color = ['deepskyblue' , 'mediumspringgreen' , 'hotpink' , 'yellow' , 'salmon' , 'mediumorchid'])\n",
        "    ax.set_xlabel('Models' , color = 'blue' , fontweight = 'bold' , fontsize = 14 , labelpad = 15)\n",
        "    ax.set_ylabel(para , color = 'blue' , fontweight = 'bold' , fontsize = 14 , labelpad = 15)\n",
        "    plt.title(\"Model \" + para , fontweight = \"bold\" , fontsize = 18 , pad = 18)\n",
        "    plt.show()"
      ]
    },
    {
      "cell_type": "code",
      "execution_count": 90,
      "metadata": {
        "colab": {
          "base_uri": "https://localhost:8080/",
          "height": 378
        },
        "id": "g_RcGHybDAxR",
        "outputId": "bf5e3b82-dc23-4e86-b3a3-27334f7f83e1"
      },
      "outputs": [
        {
          "data": {
            "image/png": "[encoded data removed]",
            "text/plain": [
              "<Figure size 720x360 with 1 Axes>"
            ]
          },
          "metadata": {
            "needs_background": "light"
          },
          "output_type": "display_data"
        }
      ],
      "source": [
        "plot_chart(Accuracy , \"Accuracy\")"
      ]
    },
    {
      "cell_type": "code",
      "execution_count": 91,
      "metadata": {
        "colab": {
          "base_uri": "https://localhost:8080/",
          "height": 378
        },
        "id": "HzE4DHeKDAxR",
        "outputId": "2685109f-7733-4acc-f321-d67999b3623c"
      },
      "outputs": [
        {
          "data": {
            "image/png": "[encoded data removed]",
            "text/plain": [
              "<Figure size 720x360 with 1 Axes>"
            ]
          },
          "metadata": {
            "needs_background": "light"
          },
          "output_type": "display_data"
        }
      ],
      "source": [
        "plot_chart(Precision , \"Precision\")"
      ]
    }
  ],
  "metadata": {
    "accelerator": "GPU",
    "colab": {
      "name": "Dementia.ipynb",
      "provenance": []
    },
    "gpuClass": "standard",
    "kernelspec": {
      "display_name": "Python 3.9.5 64-bit",
      "language": "python",
      "name": "python3"
    },
    "language_info": {
      "codemirror_mode": {
        "name": "ipython",
        "version": 3
      },
      "file_extension": ".py",
      "mimetype": "text/x-python",
      "name": "python",
      "nbconvert_exporter": "python",
      "pygments_lexer": "ipython3",
      "version": "3.9.5"
    },
    "vscode": {
      "interpreter": {
        "hash": "411a38ff57f6496edb71a2c74d2497e9b5dbdef6dec3b92120a30eb2098dc171"
      }
    }
  },
  "nbformat": 4,
  "nbformat_minor": 0
}
